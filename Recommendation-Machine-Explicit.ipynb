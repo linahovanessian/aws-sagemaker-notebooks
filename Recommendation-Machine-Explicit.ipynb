{
 "cells": [
  {
   "cell_type": "markdown",
   "metadata": {},
   "source": [
    "# End-to-End Recomendation Machine with Explicit Feedback Data Example\n",
    "\n",
    "This example shows how to perform training and inference with SageMaker's built-in Recomendation Machine algorithm. We will build a Movie Recommendation System using the MovieLens dataset ([F. Maxwell Harper and Joseph A. Konstan. 2015. The MovieLens Datasets: History and Context. ACM Transactions on Interactive Intelligent Systems (TiiS) 5, 4: 19:1–19:19.](https://dl.acm.org/doi/10.1145/2827872) .\n",
    "\n",
    "The method we will use is a Factorization Machine classifier. Factorization Machine is a general-purpose supervised learning algorithm that you can use for classification and regression tasks. It is an extension of a linear model that is designed to parsimoniously capture interactions between features in high-dimensional sparse data sets. For example, in a click prediction system, the Factorization Machine model can capture observed click rate patterns. Factoring machines are a good choice for tasks related to high-dimensional sparse data sets, such as click prediction and item recommendation.\n",
    "\n",
    "The Amazon SageMaker Factorization Machine algorithm provides a robust and highly scalable implementation of this algorithm, which has become extremely popular in ad click prediction and recommendation systems.\n",
    "\n",
    "1. [Introduction](#Introduction)\n",
    "2. [Prequisites and Preprocessing](#Prequisites-and-Preprocessing)\n",
    "    * [Import Library](#Library)\n",
    "    * [Permissions and environment variables](#Permissions-and-environment-variables)\n",
    "    * [Data inspection](#Data-inspection)\n",
    "    * [Exploratory data analysis](#Exploratory-data-analysis)\n",
    "    * [Preprocessing of the data](#Preprocessing-data)\n",
    "    * [Upload training data](#Upload-training-data)\n",
    "2. [Training the model](#Training-model)\n",
    "    * [Training parameters](#Training-parameters)\n",
    "    * [Launch the Training job](#Training-job)\n",
    "3. [Perform Batch Inference](#Batch-Inference)\n",
    "4. [Perform Real-Time Inference](#Real-Time-Inference)\n",
    "    * [Inferences](#Inferences)\n",
    "    * [Recommend function](#Recommend)\n",
    "5. [Cleanup](#Clean)"
   ]
  },
  {
   "cell_type": "markdown",
   "metadata": {},
   "source": [
    "## Introduction \n",
    "\n",
    "The method that we’ll use is a factorization machine classifier. A factorization machine is a general-purpose supervised learning algorithm that you can use for both classification and regression tasks. It is an extension of a linear model that is designed to parsimoniously capture interactions between features in high dimensional sparse datasets.\n",
    "\n",
    "Amazon SageMaker’s Factorization Machine algorithm provides a robust, highly scalable implementation of this algorithm, which has become extremely popular in ad click prediction and recommender systems.\n",
    "\n",
    "FM is formulated as a linear model, with interactions between features as additional parameters (features). These feature interactions are done in their latent space representation instead of their plain format. It is represented mathematically as such:\n",
    "\n",
    "\n",
    "<img src=\"https://cdn-images-1.medium.com/max/1200/0*vn90rfHHb5yPaZmo\" width=\"60%\" align=\"center\" />\n",
    "\n",
    "As mentioned, we can decompose the above equation into two parts — a Linear Regression model on the left-hand side and an equivalent matrix factorization on the right-hand side.\n",
    "\n",
    "To understand it more easily, let’s take a look at how we can represent the user-item matrix we saw in MF.\n",
    "\n",
    "<img src=\"https://cdn-images-1.medium.com/max/1200/1*LIUoxYjroygCiS5UhrMk4w.png\" width=\"60%\" align=\"center\" />\n",
    "\n",
    "For a start, we want to represent the user-item interaction as a one-hot encoding vector, where each row of the transformed will only have a single active user and item. We can then add in auxiliary features (e.g. other movies the user has rated, last movie rated, time he consumed that movie, etc) either as one-hot encodings or normalized vectors.\n",
    "\n",
    "Broadly speaking, factorization machines are able to estimate interactions in sparse settings because they break the independence of the interaction parameters by factorizing them (using latent vectors as expressed in <v_i, v_j>). This means that data for one interaction helps also to estimate the parameters for related interactions (similar to the idea of matrix factorization and collaborative filtering).\n",
    "\n",
    "To get started, we need to set up the environment with a few prerequisite steps, for permissions, configurations, and so on.!"
   ]
  },
  {
   "cell_type": "markdown",
   "metadata": {},
   "source": [
    "<a id='Prequisites-and-Preprocessing'></a>\n",
    "\n",
    "## Prequisites and Preprocessing\n",
    "---\n",
    "This notebook was tested in Amazon SageMaker Studio on a ml.t3.medium instance with Python 3 (Data Science) kernel.\n",
    "\n",
    "<a id='Library'></a>\n",
    "### Import Library\n",
    "\n"
   ]
  },
  {
   "cell_type": "code",
   "execution_count": 1,
   "metadata": {},
   "outputs": [],
   "source": [
    "# librerias básicas\n",
    "import re\n",
    "import pandas as pd\n",
    "import json\n",
    "import numpy as np\n",
    "from sklearn.preprocessing import OneHotEncoder\n",
    "from decimal import *\n",
    "import pprint\n",
    "\n",
    "# visualización\n",
    "import seaborn as sns\n",
    "import matplotlib.pyplot as plt\n",
    "\n",
    "sns.set(rc={'figure.figsize':(10,7)})\n",
    "\n",
    "#matrices sparse\n",
    "from scipy.sparse import lil_matrix\n",
    "\n",
    "# Librerias para Amazon sagemaker\n",
    "import boto3\n",
    "import sagemaker\n",
    "from sagemaker import get_execution_role\n",
    "\n",
    "import io\n",
    "import sagemaker.amazon.common as smac\n",
    "\n",
    "from sagemaker.tuner import HyperparameterTuner\n",
    "from sagemaker.tuner import IntegerParameter, ContinuousParameter\n",
    "\n",
    "from sagemaker.deserializers import JSONDeserializer\n",
    "from sagemaker.serializers import JSONSerializer\n"
   ]
  },
  {
   "cell_type": "markdown",
   "metadata": {},
   "source": [
    "<a id='Permissions-and-environment-variables'></a>\n",
    "\n",
    "### Permissions and environment variables\n",
    "\n",
    "Let’s start by specifying:\n",
    "\n",
    "   + The S3 buckets and prefixes that you want to use for training and model data and where the original data is located.\n",
    "\n",
    "   + The IAM role arn used to give training and hosting access to your data.\n"
   ]
  },
  {
   "cell_type": "code",
   "execution_count": 2,
   "metadata": {},
   "outputs": [
    {
     "name": "stdout",
     "output_type": "stream",
     "text": [
      "role: arn:aws:iam::338408246139:role/service-role/AmazonSageMaker-ExecutionRole-20210707T172488 bucket: sagemaker-us-east-1-338408246139\n"
     ]
    }
   ],
   "source": [
    "role = get_execution_role()\n",
    "\n",
    "sess = sagemaker.Session()\n",
    "bucket = sess.default_bucket()\n",
    "prefix = \"builtin-notebooks/Recomendation-Machine/Explicit\"\n",
    "print(f\"role: {role} bucket: {bucket}\")\n",
    "\n",
    "train_key = 'train.protobuf'\n",
    "train_prefix = '{}/{}'.format(prefix, 'train')\n",
    "s3_train = 's3://{}/{}/train/'.format(bucket,prefix)\n",
    "\n",
    "test_key = 'test.protobuf'\n",
    "test_prefix = '{}/{}'.format(prefix, 'test')\n",
    "\n",
    "#ubicación S3 de salida\n",
    "output_prefix = 's3://{}/{}/output'.format(bucket, prefix)\n"
   ]
  },
  {
   "cell_type": "markdown",
   "metadata": {},
   "source": [
    "<a id='Data-inspection'></a>\n",
    "\n",
    "### Data inspection\n",
    "\n",
    "Once the dataset is imported, it’s typical as part of the machine learning process to inspect the data, understand the distributions, and determine what type(s) of preprocessing might be needed.\n",
    "\n",
    "We start by downloading the data set. If this is the first time you have run this notebook, uncomment and run the following two lines of code, otherwise it is not necessary to run them again.\n"
   ]
  },
  {
   "cell_type": "code",
   "execution_count": 3,
   "metadata": {},
   "outputs": [],
   "source": [
    "# !wget http://files.grouplens.org/datasets/movielens/ml-100k.zip\n",
    "# !unzip -o ml-100k.zip"
   ]
  },
  {
   "cell_type": "markdown",
   "metadata": {},
   "source": [
    "Inside the downloaded .zip folder there are many different files. The datasets ua.base and ua.test split the u data into a training set and a test set with exactly 10 ratings per user in the test set. For more information consult the following [link](https://files.grouplens.org/datasets/movielens/ml-100k-README.txt)"
   ]
  },
  {
   "cell_type": "code",
   "execution_count": 4,
   "metadata": {},
   "outputs": [
    {
     "name": "stdout",
     "output_type": "stream",
     "text": [
      "/root/Factorization-Machine/Algoritmo-MF-Edrans/Explicit/ml-100k\n",
      "1\t1\t5\t874965758\n",
      "1\t2\t3\t876893171\n",
      "1\t3\t4\t878542960\n",
      "1\t4\t3\t876893119\n",
      "1\t5\t3\t889751712\n",
      "1\t6\t5\t887431973\n",
      "1\t7\t4\t875071561\n",
      "1\t8\t1\t875072484\n",
      "1\t9\t5\t878543541\n",
      "1\t10\t3\t875693118\n"
     ]
    }
   ],
   "source": [
    "%cd ml-100k\n",
    "!head -10 ua.base"
   ]
  },
  {
   "cell_type": "code",
   "execution_count": 5,
   "metadata": {},
   "outputs": [
    {
     "name": "stdout",
     "output_type": "stream",
     "text": [
      "90570 ua.base\n"
     ]
    }
   ],
   "source": [
    "!wc -l ua.base"
   ]
  },
  {
   "cell_type": "code",
   "execution_count": 6,
   "metadata": {},
   "outputs": [
    {
     "name": "stdout",
     "output_type": "stream",
     "text": [
      "1\t20\t4\t887431883\n",
      "1\t33\t4\t878542699\n",
      "1\t61\t4\t878542420\n",
      "1\t117\t3\t874965739\n",
      "1\t155\t2\t878542201\n",
      "1\t160\t4\t875072547\n",
      "1\t171\t5\t889751711\n",
      "1\t189\t3\t888732928\n",
      "1\t202\t5\t875072442\n",
      "1\t265\t4\t878542441\n"
     ]
    }
   ],
   "source": [
    "!head -10 ua.test"
   ]
  },
  {
   "cell_type": "code",
   "execution_count": 7,
   "metadata": {},
   "outputs": [
    {
     "name": "stdout",
     "output_type": "stream",
     "text": [
      "9430 ua.test\n"
     ]
    }
   ],
   "source": [
    "!wc -l ua.test"
   ]
  },
  {
   "cell_type": "markdown",
   "metadata": {},
   "source": [
    "As the dataset is already separated into train and test, we are going to read each of the databases in pandas dataframe format."
   ]
  },
  {
   "cell_type": "code",
   "execution_count": 8,
   "metadata": {},
   "outputs": [
    {
     "name": "stdout",
     "output_type": "stream",
     "text": [
      "Shape of ratings dataset for training: (90570, 4)\n"
     ]
    },
    {
     "data": {
      "text/html": [
       "<div>\n",
       "<style scoped>\n",
       "    .dataframe tbody tr th:only-of-type {\n",
       "        vertical-align: middle;\n",
       "    }\n",
       "\n",
       "    .dataframe tbody tr th {\n",
       "        vertical-align: top;\n",
       "    }\n",
       "\n",
       "    .dataframe thead th {\n",
       "        text-align: right;\n",
       "    }\n",
       "</style>\n",
       "<table border=\"1\" class=\"dataframe\">\n",
       "  <thead>\n",
       "    <tr style=\"text-align: right;\">\n",
       "      <th></th>\n",
       "      <th>userId</th>\n",
       "      <th>movieId</th>\n",
       "      <th>rating</th>\n",
       "      <th>timestamp</th>\n",
       "    </tr>\n",
       "  </thead>\n",
       "  <tbody>\n",
       "    <tr>\n",
       "      <th>0</th>\n",
       "      <td>1</td>\n",
       "      <td>1</td>\n",
       "      <td>5</td>\n",
       "      <td>874965758</td>\n",
       "    </tr>\n",
       "    <tr>\n",
       "      <th>1</th>\n",
       "      <td>1</td>\n",
       "      <td>2</td>\n",
       "      <td>3</td>\n",
       "      <td>876893171</td>\n",
       "    </tr>\n",
       "    <tr>\n",
       "      <th>2</th>\n",
       "      <td>1</td>\n",
       "      <td>3</td>\n",
       "      <td>4</td>\n",
       "      <td>878542960</td>\n",
       "    </tr>\n",
       "    <tr>\n",
       "      <th>3</th>\n",
       "      <td>1</td>\n",
       "      <td>4</td>\n",
       "      <td>3</td>\n",
       "      <td>876893119</td>\n",
       "    </tr>\n",
       "    <tr>\n",
       "      <th>4</th>\n",
       "      <td>1</td>\n",
       "      <td>5</td>\n",
       "      <td>3</td>\n",
       "      <td>889751712</td>\n",
       "    </tr>\n",
       "  </tbody>\n",
       "</table>\n",
       "</div>"
      ],
      "text/plain": [
       "   userId  movieId  rating  timestamp\n",
       "0       1        1       5  874965758\n",
       "1       1        2       3  876893171\n",
       "2       1        3       4  878542960\n",
       "3       1        4       3  876893119\n",
       "4       1        5       3  889751712"
      ]
     },
     "execution_count": 8,
     "metadata": {},
     "output_type": "execute_result"
    }
   ],
   "source": [
    "ratings = pd.read_csv('ua.base', sep='\\t', names=['userId','movieId','rating','timestamp'] )\n",
    "ratings_test = pd.read_csv('ua.test', sep='\\t', names=['userId','movieId','rating','timestamp'] )\n",
    "\n",
    "#ratings.drop(columns='timestamp', inplace=True)\n",
    "print('Shape of ratings dataset for training: {}'.format(ratings.shape))\n",
    "ratings.head()"
   ]
  },
  {
   "cell_type": "code",
   "execution_count": 9,
   "metadata": {},
   "outputs": [
    {
     "name": "stdout",
     "output_type": "stream",
     "text": [
      "DATASET TRAIN:\n",
      "Number of raiting: 90570\n",
      "Number of different users: 943\n",
      "Number of different movies: 1680\n",
      "The dataset will consist of just over 90570 ratings applied to over 943 movies by approximately 1680 users. \n"
     ]
    }
   ],
   "source": [
    "print(\"DATASET TRAIN:\")\n",
    "print(\"Number of raiting: {}\".format(ratings.shape[0]))\n",
    "print('Number of different users: {}'.format(len(ratings.userId.unique())))\n",
    "print('Number of different movies: {}'.format(len(ratings.movieId.unique())))\n",
    "print('The dataset will consist of just over {} ratings applied to over {} movies by approximately {} users. '.format(ratings.shape[0],len(ratings.userId.unique()),len(ratings.movieId.unique())))"
   ]
  },
  {
   "cell_type": "code",
   "execution_count": 10,
   "metadata": {},
   "outputs": [
    {
     "name": "stdout",
     "output_type": "stream",
     "text": [
      "DATASET TEST:\n",
      "Number of raiting: 9430\n",
      "Number of different users: 943\n",
      "Number of different movies: 1129\n",
      "The dataset test will consist of just over 9430 ratings applied to over 943 movies by approximately 1129 users. \n"
     ]
    }
   ],
   "source": [
    "print(\"DATASET TEST:\")\n",
    "print(\"Number of raiting: {}\".format(ratings_test.shape[0]))\n",
    "print('Number of different users: {}'.format(len(ratings_test.userId.unique())))\n",
    "print('Number of different movies: {}'.format(len(ratings_test.movieId.unique())))\n",
    "print('The dataset test will consist of just over {} ratings applied to over {} movies by approximately {} users. '.format(ratings_test.shape[0],len(ratings_test.userId.unique()),len(ratings_test.movieId.unique())))"
   ]
  },
  {
   "cell_type": "markdown",
   "metadata": {},
   "source": [
    "<a id='Exploratory-data-analysis'></a>\n",
    "\n",
    "### Exploratory data analysis\n",
    "\n",
    "Once the dataset is imported, it’s typical as part of the machine learning process to inspect the data, understand the distributions, and determine what type(s) of preprocessing might be needed.\n"
   ]
  },
  {
   "cell_type": "code",
   "execution_count": 11,
   "metadata": {},
   "outputs": [
    {
     "data": {
      "text/plain": [
       "count    90570.000000\n",
       "mean         3.523827\n",
       "std          1.126073\n",
       "min          1.000000\n",
       "25%          3.000000\n",
       "50%          4.000000\n",
       "75%          4.000000\n",
       "max          5.000000\n",
       "Name: rating, dtype: float64"
      ]
     },
     "execution_count": 11,
     "metadata": {},
     "output_type": "execute_result"
    }
   ],
   "source": [
    "ratings.rating.describe()"
   ]
  },
  {
   "cell_type": "code",
   "execution_count": 12,
   "metadata": {},
   "outputs": [
    {
     "data": {
      "image/png": "[encoded data removed]",
      "text/plain": [
       "<Figure size 720x504 with 1 Axes>"
      ]
     },
     "metadata": {},
     "output_type": "display_data"
    }
   ],
   "source": [
    "# seaborn histogram\n",
    "sns.distplot(ratings['rating'], \n",
    "             hist=True, \n",
    "             kde=False, \n",
    "             color='blue',\n",
    "             hist_kws={'edgecolor':'black'})\n",
    "\n",
    "plt.title(\"Ratings Distribution\")\n",
    "plt.ylabel(\"Frecuency\")\n",
    "plt.show()"
   ]
  },
  {
   "cell_type": "markdown",
   "metadata": {},
   "source": [
    "Since we are going to apply the mashine factorization algorithm for classification, we must convert the target variable (rating) into a binary variable. We will code as 1 those users who rated the film as good (rating greater than or equal to 4) and as 0 those who did not like it (rating less than 4)"
   ]
  },
  {
   "cell_type": "code",
   "execution_count": 13,
   "metadata": {},
   "outputs": [
    {
     "data": {
      "text/html": [
       "<div>\n",
       "<style scoped>\n",
       "    .dataframe tbody tr th:only-of-type {\n",
       "        vertical-align: middle;\n",
       "    }\n",
       "\n",
       "    .dataframe tbody tr th {\n",
       "        vertical-align: top;\n",
       "    }\n",
       "\n",
       "    .dataframe thead th {\n",
       "        text-align: right;\n",
       "    }\n",
       "</style>\n",
       "<table border=\"1\" class=\"dataframe\">\n",
       "  <thead>\n",
       "    <tr style=\"text-align: right;\">\n",
       "      <th></th>\n",
       "      <th>userId</th>\n",
       "      <th>movieId</th>\n",
       "      <th>rating</th>\n",
       "      <th>timestamp</th>\n",
       "      <th>rating_bin</th>\n",
       "    </tr>\n",
       "  </thead>\n",
       "  <tbody>\n",
       "    <tr>\n",
       "      <th>0</th>\n",
       "      <td>1</td>\n",
       "      <td>1</td>\n",
       "      <td>5</td>\n",
       "      <td>874965758</td>\n",
       "      <td>1.0</td>\n",
       "    </tr>\n",
       "    <tr>\n",
       "      <th>1</th>\n",
       "      <td>1</td>\n",
       "      <td>2</td>\n",
       "      <td>3</td>\n",
       "      <td>876893171</td>\n",
       "      <td>0.0</td>\n",
       "    </tr>\n",
       "    <tr>\n",
       "      <th>2</th>\n",
       "      <td>1</td>\n",
       "      <td>3</td>\n",
       "      <td>4</td>\n",
       "      <td>878542960</td>\n",
       "      <td>1.0</td>\n",
       "    </tr>\n",
       "    <tr>\n",
       "      <th>3</th>\n",
       "      <td>1</td>\n",
       "      <td>4</td>\n",
       "      <td>3</td>\n",
       "      <td>876893119</td>\n",
       "      <td>0.0</td>\n",
       "    </tr>\n",
       "    <tr>\n",
       "      <th>4</th>\n",
       "      <td>1</td>\n",
       "      <td>5</td>\n",
       "      <td>3</td>\n",
       "      <td>889751712</td>\n",
       "      <td>0.0</td>\n",
       "    </tr>\n",
       "  </tbody>\n",
       "</table>\n",
       "</div>"
      ],
      "text/plain": [
       "   userId  movieId  rating  timestamp  rating_bin\n",
       "0       1        1       5  874965758         1.0\n",
       "1       1        2       3  876893171         0.0\n",
       "2       1        3       4  878542960         1.0\n",
       "3       1        4       3  876893119         0.0\n",
       "4       1        5       3  889751712         0.0"
      ]
     },
     "execution_count": 13,
     "metadata": {},
     "output_type": "execute_result"
    }
   ],
   "source": [
    "ratings['rating_bin'] = (ratings.rating>=4).astype('float32')\n",
    "ratings_test['rating_bin'] = (ratings_test.rating>=4).astype('float32')\n",
    "ratings.head()"
   ]
  },
  {
   "cell_type": "code",
   "execution_count": 14,
   "metadata": {},
   "outputs": [
    {
     "data": {
      "text/plain": [
       "1.0    0.55\n",
       "0.0    0.45\n",
       "Name: rating_bin, dtype: float64"
      ]
     },
     "execution_count": 14,
     "metadata": {},
     "output_type": "execute_result"
    }
   ],
   "source": [
    "round(ratings.rating_bin.value_counts(normalize=True), 2)"
   ]
  },
  {
   "cell_type": "markdown",
   "metadata": {},
   "source": [
    "As can be seen, the dataset is quite balanced. Let's verify that all users have sufficient ratings."
   ]
  },
  {
   "cell_type": "code",
   "execution_count": 15,
   "metadata": {},
   "outputs": [
    {
     "data": {
      "text/plain": [
       "userId\n",
       "202     10\n",
       "441     10\n",
       "685     10\n",
       "34      10\n",
       "36      10\n",
       "      ... \n",
       "276    508\n",
       "450    530\n",
       "13     626\n",
       "655    675\n",
       "405    727\n",
       "Name: rating, Length: 943, dtype: int64"
      ]
     },
     "execution_count": 15,
     "metadata": {},
     "output_type": "execute_result"
    }
   ],
   "source": [
    "ratings.groupby('userId').count().rating.sort_values()"
   ]
  },
  {
   "cell_type": "code",
   "execution_count": 16,
   "metadata": {},
   "outputs": [
    {
     "data": {
      "text/plain": [
       "userId\n",
       "1      10\n",
       "622    10\n",
       "623    10\n",
       "624    10\n",
       "625    10\n",
       "       ..\n",
       "320    10\n",
       "321    10\n",
       "322    10\n",
       "310    10\n",
       "943    10\n",
       "Name: rating, Length: 943, dtype: int64"
      ]
     },
     "execution_count": 16,
     "metadata": {},
     "output_type": "execute_result"
    }
   ],
   "source": [
    "ratings_test.groupby('userId').count().rating.sort_values()"
   ]
  },
  {
   "cell_type": "markdown",
   "metadata": {},
   "source": [
    "All users have at least 10 movie ratings. Let's verify that all users and movies that are present in test are also present in train, otherwise we remove them from the test dataset."
   ]
  },
  {
   "cell_type": "code",
   "execution_count": 17,
   "metadata": {},
   "outputs": [
    {
     "name": "stdout",
     "output_type": "stream",
     "text": [
      "Users of the test dataset are on the train dataset: True\n",
      "Movie of the test dataset are on the train dataset: False\n"
     ]
    }
   ],
   "source": [
    "print('Users of the test dataset are on the train dataset: {}'.format(ratings_test.userId.isin(ratings.userId).sum()==len(ratings_test.userId)))\n",
    "print('Movie of the test dataset are on the train dataset: {}'.format(ratings_test.movieId.isin(ratings.movieId).sum()==len(ratings_test.movieId)))"
   ]
  },
  {
   "cell_type": "code",
   "execution_count": 18,
   "metadata": {},
   "outputs": [
    {
     "name": "stdout",
     "output_type": "stream",
     "text": [
      "The movies that are in the test dataset and not in the train dataset are:\n"
     ]
    },
    {
     "data": {
      "text/html": [
       "<div>\n",
       "<style scoped>\n",
       "    .dataframe tbody tr th:only-of-type {\n",
       "        vertical-align: middle;\n",
       "    }\n",
       "\n",
       "    .dataframe tbody tr th {\n",
       "        vertical-align: top;\n",
       "    }\n",
       "\n",
       "    .dataframe thead th {\n",
       "        text-align: right;\n",
       "    }\n",
       "</style>\n",
       "<table border=\"1\" class=\"dataframe\">\n",
       "  <thead>\n",
       "    <tr style=\"text-align: right;\">\n",
       "      <th></th>\n",
       "      <th>userId</th>\n",
       "      <th>movieId</th>\n",
       "      <th>rating</th>\n",
       "      <th>timestamp</th>\n",
       "      <th>rating_bin</th>\n",
       "    </tr>\n",
       "  </thead>\n",
       "  <tbody>\n",
       "    <tr>\n",
       "      <th>4049</th>\n",
       "      <td>405</td>\n",
       "      <td>1582</td>\n",
       "      <td>1</td>\n",
       "      <td>885548670</td>\n",
       "      <td>0.0</td>\n",
       "    </tr>\n",
       "    <tr>\n",
       "      <th>6749</th>\n",
       "      <td>675</td>\n",
       "      <td>1653</td>\n",
       "      <td>5</td>\n",
       "      <td>889489913</td>\n",
       "      <td>1.0</td>\n",
       "    </tr>\n",
       "  </tbody>\n",
       "</table>\n",
       "</div>"
      ],
      "text/plain": [
       "      userId  movieId  rating  timestamp  rating_bin\n",
       "4049     405     1582       1  885548670         0.0\n",
       "6749     675     1653       5  889489913         1.0"
      ]
     },
     "execution_count": 18,
     "metadata": {},
     "output_type": "execute_result"
    }
   ],
   "source": [
    "print('The movies that are in the test dataset and not in the train dataset are:')\n",
    "ratings_test[ratings_test.movieId.isin(ratings.movieId)==False]"
   ]
  },
  {
   "cell_type": "code",
   "execution_count": 19,
   "metadata": {},
   "outputs": [],
   "source": [
    "# We remove the observations\n",
    "ratings_test = ratings_test.drop(index=ratings_test[ratings_test.movieId.isin(ratings.movieId)==False].index)\n",
    "ratings_test.reset_index(drop=True,inplace=True)"
   ]
  },
  {
   "cell_type": "code",
   "execution_count": 20,
   "metadata": {},
   "outputs": [
    {
     "name": "stdout",
     "output_type": "stream",
     "text": [
      "Users of the test dataset are on the train dataset: True\n",
      "Movie of the test dataset are on the train dataset: True\n"
     ]
    }
   ],
   "source": [
    "print('Users of the test dataset are on the train dataset: {}'.format(ratings_test.userId.isin(ratings.userId).sum()==len(ratings_test.userId)))\n",
    "print('Movie of the test dataset are on the train dataset: {}'.format(ratings_test.movieId.isin(ratings.movieId).sum()==len(ratings_test.movieId)))"
   ]
  },
  {
   "cell_type": "markdown",
   "metadata": {},
   "source": [
    "<a id='Preprocessing-data'></a>\n",
    "\n",
    "### Preprocessing of the data\n",
    "\n",
    "One-hot Encoding is a type of vector representation in which all of the elements in a vector are 0, except for one, which has 1 as its value, where 1 represents a boolean specifying a category of the element.  A similar technique to this one, also used to represent data, would be dummy variables in statistics. [OneHotEncoder](https://scikit-learn.org/stable/modules/generated/sklearn.preprocessing.OneHotEncoder.html)\n",
    "\n",
    "In our example we must transform with `OneHotEncoder` the variables **userId** and **movieId** to transform them into columns and represent them as binary variables. The `fit` y `transform` method is applied to the train dataset and the `transform` method is applied to the test dataset.\n"
   ]
  },
  {
   "cell_type": "code",
   "execution_count": 21,
   "metadata": {},
   "outputs": [],
   "source": [
    "enc = OneHotEncoder(handle_unknown='ignore', sparse=True)\n",
    "enc.fit(ratings[['userId','movieId']])\n",
    "\n",
    "X_train_OH = enc.transform(ratings[['userId','movieId']]).astype('float32')\n",
    "Y_train_OH = ratings['rating_bin']\n",
    "\n",
    "X_test_OH = enc.transform(ratings_test[['userId','movieId']]).astype('float32')\n",
    "Y_test_OH = ratings_test['rating_bin']\n"
   ]
  },
  {
   "cell_type": "code",
   "execution_count": 22,
   "metadata": {},
   "outputs": [
    {
     "name": "stdout",
     "output_type": "stream",
     "text": [
      "  (0, 0)\t1.0\n",
      "  (0, 943)\t1.0\n",
      "  (0, 0)\t1.0\n",
      "  (0, 962)\t1.0\n"
     ]
    }
   ],
   "source": [
    "print(X_train_OH[0,:])\n",
    "print(X_test_OH[0,:])"
   ]
  },
  {
   "cell_type": "code",
   "execution_count": 23,
   "metadata": {},
   "outputs": [
    {
     "name": "stdout",
     "output_type": "stream",
     "text": [
      "0       1.0\n",
      "1       1.0\n",
      "2       1.0\n",
      "3       0.0\n",
      "4       0.0\n",
      "       ... \n",
      "9423    1.0\n",
      "9424    1.0\n",
      "9425    0.0\n",
      "9426    1.0\n",
      "9427    0.0\n",
      "Name: rating_bin, Length: 9428, dtype: float32\n"
     ]
    }
   ],
   "source": [
    "print(Y_test_OH)"
   ]
  },
  {
   "cell_type": "code",
   "execution_count": 24,
   "metadata": {},
   "outputs": [
    {
     "name": "stdout",
     "output_type": "stream",
     "text": [
      "Columns:2623 \n",
      "Rows:90570 \n"
     ]
    }
   ],
   "source": [
    "columns = X_train_OH.shape[1]\n",
    "\n",
    "print(\"Columns:{} \".format(X_train_OH.shape[1]))\n",
    "print(\"Rows:{} \".format(X_train_OH.shape[0]))"
   ]
  },
  {
   "cell_type": "markdown",
   "metadata": {},
   "source": [
    "<a id='Upload-training-data'></a>\n",
    "\n",
    "### Upload training data\n",
    "\n",
    "Since algorithms have particular input and output requirements, converting the dataset is also part of the process that a data scientist goes through prior to initiating training. In this particular case, the Amazon SageMaker implementation of Factorization Machines takes recordIO-wrapped protobuf, where the data we have today is a pickle-ized numpy array on disk.\n"
   ]
  },
  {
   "cell_type": "code",
   "execution_count": 25,
   "metadata": {},
   "outputs": [],
   "source": [
    "# Función que permite guardar en formato protobuf en un bucket de S3\n",
    "def writeDatasetToProtobuf(X, Y, bucket, prefix, key):\n",
    "    buf = io.BytesIO()\n",
    "    smac.write_spmatrix_to_sparse_tensor(buf, X, Y)\n",
    "    buf.seek(0)\n",
    "    obj = '{}/{}'.format(prefix, key)\n",
    "    boto3.resource('s3').Bucket(bucket).Object(obj).upload_fileobj(buf)\n",
    "    return 's3://{}/{}'.format(bucket, obj)"
   ]
  },
  {
   "cell_type": "code",
   "execution_count": 26,
   "metadata": {},
   "outputs": [
    {
     "name": "stdout",
     "output_type": "stream",
     "text": [
      "s3://sagemaker-us-east-1-338408246139/builtin-notebooks/Recomendation-Machine/Explicit/train/train.protobuf\n",
      "s3://sagemaker-us-east-1-338408246139/builtin-notebooks/Recomendation-Machine/Explicit/test/test.protobuf\n",
      "Output: s3://sagemaker-us-east-1-338408246139/builtin-notebooks/Recomendation-Machine/Explicit/output\n",
      "CPU times: user 12.6 s, sys: 229 ms, total: 12.8 s\n",
      "Wall time: 13 s\n"
     ]
    }
   ],
   "source": [
    "%%time\n",
    "train_data = writeDatasetToProtobuf(X_train_OH, Y_train_OH, bucket, train_prefix, train_key)    \n",
    "test_data = writeDatasetToProtobuf(X_test_OH, Y_test_OH, bucket, test_prefix, test_key)    \n",
    "  \n",
    "print(train_data)\n",
    "print(test_data)\n",
    "print('Output: {}'.format(output_prefix))"
   ]
  },
  {
   "cell_type": "markdown",
   "metadata": {},
   "source": [
    "<a id='Training-model'></a>\n",
    "## Training the model\n",
    "---\n",
    "\n",
    "Now that we are done with all the setup that is needed, we are ready to train our Factorization Machine. To begin, let us create a ``sageMaker.estimator.Estimator`` object. This estimator will launch the training job."
   ]
  },
  {
   "cell_type": "markdown",
   "metadata": {},
   "source": [
    "<a id='Training-parameters'></a>\n",
    "### Training parameters\n",
    "There are two kinds of parameters that need to be set for training. The first one are the parameters for the training job. These include:\n",
    "\n",
    "* **image_uri**: Container image for the algorithm\n",
    "* **Training instance count**: This is the number of instances on which to run the training. When the number of instances is greater than one, then the Factorization Machine algorithm will run in distributed settings. \n",
    "* **Training instance type**: This indicates the type of machine on which to run the training. \n",
    "* **Volume size**: Size in GB of the EBS volume to use for storing input data during training. Must be large enough to store training data.\n",
    "* **Max run time**: Timeout in seconds for training. After this amount of time Amazon SageMaker terminates the job regardless of its current status.\n",
    "* **Output path**: This the s3 folder in which the training output is stored."
   ]
  },
  {
   "cell_type": "code",
   "execution_count": 27,
   "metadata": {},
   "outputs": [
    {
     "name": "stderr",
     "output_type": "stream",
     "text": [
      "Defaulting to the only supported framework/algorithm version: 1. Ignoring framework/algorithm version: latest.\n"
     ]
    }
   ],
   "source": [
    "from sagemaker.image_uris import retrieve\n",
    "\n",
    "training_image = retrieve(region=boto3.Session().region_name, framework=\"factorization-machines\", version='latest')"
   ]
  },
  {
   "cell_type": "code",
   "execution_count": 28,
   "metadata": {},
   "outputs": [],
   "source": [
    "fm = sagemaker.estimator.Estimator(\n",
    "    training_image,\n",
    "    role,\n",
    "    instance_count=1,\n",
    "    instance_type='ml.c4.xlarge',\n",
    "    volume_size=30,\n",
    "    max_run=86400,\n",
    "    output_path=output_prefix,\n",
    "    sagemaker_session=sess,\n",
    ")"
   ]
  },
  {
   "cell_type": "markdown",
   "metadata": {},
   "source": [
    "Apart from the above set of parameters, there are hyperparameters that are specific to the algorithm. These are:\n",
    "\n",
    "* **feature_dim**: The dimension of the input feature space. This could be very high with sparse input.\n",
    "* **num_factors**: The dimensionality of factorization. As mentioned initially, factorization machines find a lower dimensional representation of the interactions for all features. Making this value smaller provides a more parsimonious model, closer to a linear model, but may sacrifice information about interactions. Making it larger provides a higher-dimensional representation of feature interactions, but adds computational complexity and can lead to overfitting. In a practical application, time should be invested to tune this parameter to the appropriate value.\n",
    "* **predictor_type**: The type of predictor. binary_classifier: For binary classification tasks. regressor: For regression tasks.\n",
    "* **epochs**: The number of training epochs to run.\n",
    "* **mini_batch_size**: The size of mini-batch used for training. This value can be tuned for relatively minor improvements in fit and speed, but selecting a reasonable value relative to the dataset is appropriate in most cases.\n",
    "\n",
    "You can check all the available hyperparameters at [Factorization Machines Hyperparameters](https://docs.aws.amazon.com/sagemaker/latest/dg/fact-machines-hyperparameters.html).\n"
   ]
  },
  {
   "cell_type": "code",
   "execution_count": 29,
   "metadata": {},
   "outputs": [],
   "source": [
    "fm.set_hyperparameters(\n",
    "    feature_dim=columns,\n",
    "    num_factors=64,\n",
    "    predictor_type='binary_classifier',\n",
    "    epochs=30,\n",
    "    mini_batch_size=200\n",
    ")"
   ]
  },
  {
   "cell_type": "markdown",
   "metadata": {},
   "source": [
    "<a id='Input-data-specification'></a>\n",
    "### Input data specification\n",
    "\n",
    "Set the data type and channels used for training. We have to specify `train` and `test` channels."
   ]
  },
  {
   "cell_type": "code",
   "execution_count": 30,
   "metadata": {},
   "outputs": [],
   "source": [
    "data_channels = {\n",
    "    \"train\": train_data,\n",
    "    \"test\": test_data\n",
    "}"
   ]
  },
  {
   "cell_type": "markdown",
   "metadata": {},
   "source": [
    "<a id='Training-job'></a>\n",
    "### Launch the Training job\n",
    "\n",
    "Start training by calling the fit method in the estimator. This will launch a SageMaker Training job with the requested parameters and hyperparameters.\n",
    "\n",
    "When it's done, run the next cell to see the training results."
   ]
  },
  {
   "cell_type": "code",
   "execution_count": 31,
   "metadata": {
    "scrolled": true
   },
   "outputs": [
    {
     "name": "stdout",
     "output_type": "stream",
     "text": [
      "2021-12-22 19:00:47 Starting - Starting the training job...\n",
      "2021-12-22 19:00:52 Starting - Launching requested ML instancesProfilerReport-1640199647: InProgress\n",
      "......\n",
      "2021-12-22 19:02:16 Starting - Preparing the instances for training............\n",
      "2021-12-22 19:04:17 Downloading - Downloading input data...\n",
      "2021-12-22 19:04:46 Training - Training image download completed. Training in progress..\u001b[34mDocker entrypoint called with argument(s): train\u001b[0m\n",
      "\u001b[34mRunning default environment configuration script\u001b[0m\n",
      "\u001b[34m/opt/amazon/lib/python3.7/site-packages/jsonref.py:8: DeprecationWarning: Using or importing the ABCs from 'collections' instead of from 'collections.abc' is deprecated since Python 3.3,and in 3.9 it will stop working\n",
      "  from collections import Mapping, MutableMapping, Sequence\u001b[0m\n",
      "\u001b[34m/opt/amazon/lib/python3.7/site-packages/algorithm/network_builder.py:87: DeprecationWarning: invalid escape sequence \\s\n",
      "  \"\"\"\u001b[0m\n",
      "\u001b[34m/opt/amazon/lib/python3.7/site-packages/algorithm/network_builder.py:120: DeprecationWarning: invalid escape sequence \\s\n",
      "  \"\"\"\u001b[0m\n",
      "\u001b[34m[12/22/2021 19:04:50 INFO 139703438038848] Reading default configuration from /opt/amazon/lib/python3.7/site-packages/algorithm/resources/default-conf.json: {'epochs': 1, 'mini_batch_size': '1000', 'use_bias': 'true', 'use_linear': 'true', 'bias_lr': '0.1', 'linear_lr': '0.001', 'factors_lr': '0.0001', 'bias_wd': '0.01', 'linear_wd': '0.001', 'factors_wd': '0.00001', 'bias_init_method': 'normal', 'bias_init_sigma': '0.01', 'linear_init_method': 'normal', 'linear_init_sigma': '0.01', 'factors_init_method': 'normal', 'factors_init_sigma': '0.001', 'batch_metrics_publish_interval': '500', '_data_format': 'record', '_kvstore': 'auto', '_learning_rate': '1.0', '_log_level': 'info', '_num_gpus': 'auto', '_num_kv_servers': 'auto', '_optimizer': 'adam', '_tuning_objective_metric': '', '_use_full_symbolic': 'true', '_wd': '1.0'}\u001b[0m\n",
      "\u001b[34m[12/22/2021 19:04:50 INFO 139703438038848] Merging with provided configuration from /opt/ml/input/config/hyperparameters.json: {'feature_dim': '2623', 'predictor_type': 'binary_classifier', 'num_factors': '64', 'epochs': '30', 'mini_batch_size': '200'}\u001b[0m\n",
      "\u001b[34m[12/22/2021 19:04:50 INFO 139703438038848] Final configuration: {'epochs': '30', 'mini_batch_size': '200', 'use_bias': 'true', 'use_linear': 'true', 'bias_lr': '0.1', 'linear_lr': '0.001', 'factors_lr': '0.0001', 'bias_wd': '0.01', 'linear_wd': '0.001', 'factors_wd': '0.00001', 'bias_init_method': 'normal', 'bias_init_sigma': '0.01', 'linear_init_method': 'normal', 'linear_init_sigma': '0.01', 'factors_init_method': 'normal', 'factors_init_sigma': '0.001', 'batch_metrics_publish_interval': '500', '_data_format': 'record', '_kvstore': 'auto', '_learning_rate': '1.0', '_log_level': 'info', '_num_gpus': 'auto', '_num_kv_servers': 'auto', '_optimizer': 'adam', '_tuning_objective_metric': '', '_use_full_symbolic': 'true', '_wd': '1.0', 'feature_dim': '2623', 'predictor_type': 'binary_classifier', 'num_factors': '64'}\u001b[0m\n",
      "\u001b[34m[12/22/2021 19:04:50 WARNING 139703438038848] Loggers have already been setup.\u001b[0m\n",
      "\u001b[34mProcess 1 is a worker.\u001b[0m\n",
      "\u001b[34m[12/22/2021 19:04:50 INFO 139703438038848] Using default worker.\u001b[0m\n",
      "\u001b[34m[12/22/2021 19:04:50 INFO 139703438038848] Checkpoint loading and saving are disabled.\u001b[0m\n",
      "\u001b[34m[2021-12-22 19:04:50.653] [tensorio] [warning] TensorIO is already initialized; ignoring the initialization routine.\u001b[0m\n",
      "\u001b[34m[2021-12-22 19:04:50.656] [tensorio] [info] epoch_stats={\"data_pipeline\": \"/opt/ml/input/data/train\", \"epoch\": 0, \"duration\": 6, \"num_examples\": 1, \"num_bytes\": 12800}\u001b[0m\n",
      "\u001b[34m[12/22/2021 19:04:50 INFO 139703438038848] nvidia-smi: took 0.079 seconds to run.\u001b[0m\n",
      "\u001b[34m[12/22/2021 19:04:50 INFO 139703438038848] nvidia-smi identified 0 GPUs.\u001b[0m\n",
      "\u001b[34m[12/22/2021 19:04:50 INFO 139703438038848] Number of GPUs being used: 0\u001b[0m\n",
      "\u001b[34m[12/22/2021 19:04:50 INFO 139703438038848] [Sparse network] Building a sparse network.\u001b[0m\n",
      "\u001b[34m[12/22/2021 19:04:50 INFO 139703438038848] Create Store: local\u001b[0m\n",
      "\u001b[34m#metrics {\"StartTime\": 1640199890.6494658, \"EndTime\": 1640199890.7663908, \"Dimensions\": {\"Algorithm\": \"factorization-machines\", \"Host\": \"algo-1\", \"Operation\": \"training\"}, \"Metrics\": {\"initialize.time\": {\"sum\": 111.38343811035156, \"count\": 1, \"min\": 111.38343811035156, \"max\": 111.38343811035156}}}\u001b[0m\n",
      "\u001b[34m#metrics {\"StartTime\": 1640199890.7665415, \"EndTime\": 1640199890.7665846, \"Dimensions\": {\"Algorithm\": \"factorization-machines\", \"Host\": \"algo-1\", \"Operation\": \"training\", \"Meta\": \"init_train_data_iter\"}, \"Metrics\": {\"Total Records Seen\": {\"sum\": 200.0, \"count\": 1, \"min\": 200, \"max\": 200}, \"Total Batches Seen\": {\"sum\": 1.0, \"count\": 1, \"min\": 1, \"max\": 1}, \"Max Records Seen Between Resets\": {\"sum\": 200.0, \"count\": 1, \"min\": 200, \"max\": 200}, \"Max Batches Seen Between Resets\": {\"sum\": 1.0, \"count\": 1, \"min\": 1, \"max\": 1}, \"Reset Count\": {\"sum\": 1.0, \"count\": 1, \"min\": 1, \"max\": 1}, \"Number of Records Since Last Reset\": {\"sum\": 0.0, \"count\": 1, \"min\": 0, \"max\": 0}, \"Number of Batches Since Last Reset\": {\"sum\": 0.0, \"count\": 1, \"min\": 0, \"max\": 0}}}\u001b[0m\n",
      "\u001b[34m[19:04:50] /opt/brazil-pkg-cache/packages/AIAlgorithmsMXNet/AIAlgorithmsMXNet-1.1.x.205844.0/AL2_x86_64/generic-flavor/src/src/kvstore/./kvstore_local.h:280: Warning: non-default weights detected during kvstore pull. This call has been ignored. Please make sure to use row_sparse_pull with row_ids.\u001b[0m\n",
      "\u001b[34m[19:04:50] /opt/brazil-pkg-cache/packages/AIAlgorithmsMXNet/AIAlgorithmsMXNet-1.1.x.205844.0/AL2_x86_64/generic-flavor/src/src/kvstore/./kvstore_local.h:280: Warning: non-default weights detected during kvstore pull. This call has been ignored. Please make sure to use row_sparse_pull with row_ids.\u001b[0m\n",
      "\u001b[34m[12/22/2021 19:04:50 INFO 139703438038848] #quality_metric: host=algo-1, epoch=0, batch=0 train binary_classification_accuracy <score>=0.62\u001b[0m\n",
      "\u001b[34m[12/22/2021 19:04:50 INFO 139703438038848] #quality_metric: host=algo-1, epoch=0, batch=0 train binary_classification_cross_entropy <loss>=0.6894251251220703\u001b[0m\n",
      "\u001b[34m[12/22/2021 19:04:50 INFO 139703438038848] #quality_metric: host=algo-1, epoch=0, batch=0 train binary_f_1.000 <score>=0.7654320987654321\u001b[0m\n",
      "\u001b[34m[2021-12-22 19:04:52.422] [tensorio] [info] epoch_stats={\"data_pipeline\": \"/opt/ml/input/data/train\", \"epoch\": 2, \"duration\": 1622, \"num_examples\": 453, \"num_bytes\": 5796480}\u001b[0m\n",
      "\u001b[34m[12/22/2021 19:04:52 INFO 139703438038848] #quality_metric: host=algo-1, epoch=0, train binary_classification_accuracy <score>=0.5513907284768212\u001b[0m\n",
      "\u001b[34m[12/22/2021 19:04:52 INFO 139703438038848] #quality_metric: host=algo-1, epoch=0, train binary_classification_cross_entropy <loss>=0.6858020927311306\u001b[0m\n",
      "\u001b[34m[12/22/2021 19:04:52 INFO 139703438038848] #quality_metric: host=algo-1, epoch=0, train binary_f_1.000 <score>=0.6713511765181531\u001b[0m\n",
      "\u001b[34m#metrics {\"StartTime\": 1640199890.7664855, \"EndTime\": 1640199892.4237647, \"Dimensions\": {\"Algorithm\": \"factorization-machines\", \"Host\": \"algo-1\", \"Operation\": \"training\"}, \"Metrics\": {\"epochs\": {\"sum\": 30.0, \"count\": 1, \"min\": 30, \"max\": 30}, \"update.time\": {\"sum\": 1656.874179840088, \"count\": 1, \"min\": 1656.874179840088, \"max\": 1656.874179840088}}}\u001b[0m\n",
      "\u001b[34m[12/22/2021 19:04:52 INFO 139703438038848] #progress_metric: host=algo-1, completed 3.3333333333333335 % of epochs\u001b[0m\n",
      "\u001b[34m#metrics {\"StartTime\": 1640199890.766857, \"EndTime\": 1640199892.4240441, \"Dimensions\": {\"Algorithm\": \"factorization-machines\", \"Host\": \"algo-1\", \"Operation\": \"training\", \"epoch\": 0, \"Meta\": \"training_data_iter\"}, \"Metrics\": {\"Total Records Seen\": {\"sum\": 90770.0, \"count\": 1, \"min\": 90770, \"max\": 90770}, \"Total Batches Seen\": {\"sum\": 454.0, \"count\": 1, \"min\": 454, \"max\": 454}, \"Max Records Seen Between Resets\": {\"sum\": 90570.0, \"count\": 1, \"min\": 90570, \"max\": 90570}, \"Max Batches Seen Between Resets\": {\"sum\": 453.0, \"count\": 1, \"min\": 453, \"max\": 453}, \"Reset Count\": {\"sum\": 2.0, \"count\": 1, \"min\": 2, \"max\": 2}, \"Number of Records Since Last Reset\": {\"sum\": 90570.0, \"count\": 1, \"min\": 90570, \"max\": 90570}, \"Number of Batches Since Last Reset\": {\"sum\": 453.0, \"count\": 1, \"min\": 453, \"max\": 453}}}\u001b[0m\n",
      "\u001b[34m[12/22/2021 19:04:52 INFO 139703438038848] #throughput_metric: host=algo-1, train throughput=54648.40497448539 records/second\u001b[0m\n",
      "\u001b[34m[12/22/2021 19:04:52 INFO 139703438038848] #quality_metric: host=algo-1, epoch=1, batch=0 train binary_classification_accuracy <score>=0.62\u001b[0m\n",
      "\u001b[34m[12/22/2021 19:04:52 INFO 139703438038848] #quality_metric: host=algo-1, epoch=1, batch=0 train binary_classification_cross_entropy <loss>=0.6507969665527343\u001b[0m\n",
      "\u001b[34m[12/22/2021 19:04:52 INFO 139703438038848] #quality_metric: host=algo-1, epoch=1, batch=0 train binary_f_1.000 <score>=0.7654320987654321\u001b[0m\n",
      "\u001b[34m[2021-12-22 19:04:53.924] [tensorio] [info] epoch_stats={\"data_pipeline\": \"/opt/ml/input/data/train\", \"epoch\": 4, \"duration\": 1498, \"num_examples\": 453, \"num_bytes\": 5796480}\u001b[0m\n",
      "\u001b[34m[12/22/2021 19:04:53 INFO 139703438038848] #quality_metric: host=algo-1, epoch=1, train binary_classification_accuracy <score>=0.5663576158940398\u001b[0m\n",
      "\u001b[34m[12/22/2021 19:04:53 INFO 139703438038848] #quality_metric: host=algo-1, epoch=1, train binary_classification_cross_entropy <loss>=0.6731621593618499\u001b[0m\n",
      "\u001b[34m[12/22/2021 19:04:53 INFO 139703438038848] #quality_metric: host=algo-1, epoch=1, train binary_f_1.000 <score>=0.6808344706570482\u001b[0m\n",
      "\u001b[34m#metrics {\"StartTime\": 1640199892.4238508, \"EndTime\": 1640199893.9254673, \"Dimensions\": {\"Algorithm\": \"factorization-machines\", \"Host\": \"algo-1\", \"Operation\": \"training\"}, \"Metrics\": {\"update.time\": {\"sum\": 1501.1036396026611, \"count\": 1, \"min\": 1501.1036396026611, \"max\": 1501.1036396026611}}}\u001b[0m\n",
      "\u001b[34m[12/22/2021 19:04:53 INFO 139703438038848] #progress_metric: host=algo-1, completed 6.666666666666667 % of epochs\u001b[0m\n",
      "\u001b[34m#metrics {\"StartTime\": 1640199892.4243298, \"EndTime\": 1640199893.9257352, \"Dimensions\": {\"Algorithm\": \"factorization-machines\", \"Host\": \"algo-1\", \"Operation\": \"training\", \"epoch\": 1, \"Meta\": \"training_data_iter\"}, \"Metrics\": {\"Total Records Seen\": {\"sum\": 181340.0, \"count\": 1, \"min\": 181340, \"max\": 181340}, \"Total Batches Seen\": {\"sum\": 907.0, \"count\": 1, \"min\": 907, \"max\": 907}, \"Max Records Seen Between Resets\": {\"sum\": 90570.0, \"count\": 1, \"min\": 90570, \"max\": 90570}, \"Max Batches Seen Between Resets\": {\"sum\": 453.0, \"count\": 1, \"min\": 453, \"max\": 453}, \"Reset Count\": {\"sum\": 3.0, \"count\": 1, \"min\": 3, \"max\": 3}, \"Number of Records Since Last Reset\": {\"sum\": 90570.0, \"count\": 1, \"min\": 90570, \"max\": 90570}, \"Number of Batches Since Last Reset\": {\"sum\": 453.0, \"count\": 1, \"min\": 453, \"max\": 453}}}\u001b[0m\n",
      "\u001b[34m[12/22/2021 19:04:53 INFO 139703438038848] #throughput_metric: host=algo-1, train throughput=60317.77872976364 records/second\u001b[0m\n",
      "\u001b[34m[12/22/2021 19:04:53 INFO 139703438038848] #quality_metric: host=algo-1, epoch=2, batch=0 train binary_classification_accuracy <score>=0.62\u001b[0m\n",
      "\u001b[34m[12/22/2021 19:04:53 INFO 139703438038848] #quality_metric: host=algo-1, epoch=2, batch=0 train binary_classification_cross_entropy <loss>=0.636888427734375\u001b[0m\n",
      "\u001b[34m[12/22/2021 19:04:53 INFO 139703438038848] #quality_metric: host=algo-1, epoch=2, batch=0 train binary_f_1.000 <score>=0.7654320987654321\u001b[0m\n",
      "\u001b[34m[2021-12-22 19:04:55.263] [tensorio] [info] epoch_stats={\"data_pipeline\": \"/opt/ml/input/data/train\", \"epoch\": 6, \"duration\": 1335, \"num_examples\": 453, \"num_bytes\": 5796480}\u001b[0m\n",
      "\u001b[34m[12/22/2021 19:04:55 INFO 139703438038848] #quality_metric: host=algo-1, epoch=2, train binary_classification_accuracy <score>=0.5864459161147902\u001b[0m\n",
      "\u001b[34m[12/22/2021 19:04:55 INFO 139703438038848] #quality_metric: host=algo-1, epoch=2, train binary_classification_cross_entropy <loss>=0.6633392490614329\u001b[0m\n",
      "\u001b[34m[12/22/2021 19:04:55 INFO 139703438038848] #quality_metric: host=algo-1, epoch=2, train binary_f_1.000 <score>=0.6907356048600105\u001b[0m\n",
      "\u001b[34m#metrics {\"StartTime\": 1640199893.9255495, \"EndTime\": 1640199895.26454, \"Dimensions\": {\"Algorithm\": \"factorization-machines\", \"Host\": \"algo-1\", \"Operation\": \"training\"}, \"Metrics\": {\"update.time\": {\"sum\": 1338.4788036346436, \"count\": 1, \"min\": 1338.4788036346436, \"max\": 1338.4788036346436}}}\u001b[0m\n",
      "\u001b[34m[12/22/2021 19:04:55 INFO 139703438038848] #progress_metric: host=algo-1, completed 10.0 % of epochs\u001b[0m\n",
      "\u001b[34m#metrics {\"StartTime\": 1640199893.926029, \"EndTime\": 1640199895.2648487, \"Dimensions\": {\"Algorithm\": \"factorization-machines\", \"Host\": \"algo-1\", \"Operation\": \"training\", \"epoch\": 2, \"Meta\": \"training_data_iter\"}, \"Metrics\": {\"Total Records Seen\": {\"sum\": 271910.0, \"count\": 1, \"min\": 271910, \"max\": 271910}, \"Total Batches Seen\": {\"sum\": 1360.0, \"count\": 1, \"min\": 1360, \"max\": 1360}, \"Max Records Seen Between Resets\": {\"sum\": 90570.0, \"count\": 1, \"min\": 90570, \"max\": 90570}, \"Max Batches Seen Between Resets\": {\"sum\": 453.0, \"count\": 1, \"min\": 453, \"max\": 453}, \"Reset Count\": {\"sum\": 4.0, \"count\": 1, \"min\": 4, \"max\": 4}, \"Number of Records Since Last Reset\": {\"sum\": 90570.0, \"count\": 1, \"min\": 90570, \"max\": 90570}, \"Number of Batches Since Last Reset\": {\"sum\": 453.0, \"count\": 1, \"min\": 453, \"max\": 453}}}\u001b[0m\n",
      "\u001b[34m[12/22/2021 19:04:55 INFO 139703438038848] #throughput_metric: host=algo-1, train throughput=67642.42734742006 records/second\u001b[0m\n",
      "\u001b[34m[12/22/2021 19:04:55 INFO 139703438038848] #quality_metric: host=algo-1, epoch=3, batch=0 train binary_classification_accuracy <score>=0.66\u001b[0m\n",
      "\u001b[34m[12/22/2021 19:04:55 INFO 139703438038848] #quality_metric: host=algo-1, epoch=3, batch=0 train binary_classification_cross_entropy <loss>=0.6262996673583985\u001b[0m\n",
      "\u001b[34m[12/22/2021 19:04:55 INFO 139703438038848] #quality_metric: host=algo-1, epoch=3, batch=0 train binary_f_1.000 <score>=0.7848101265822784\u001b[0m\n",
      "\u001b[34m[2021-12-22 19:04:56.534] [tensorio] [info] epoch_stats={\"data_pipeline\": \"/opt/ml/input/data/train\", \"epoch\": 8, \"duration\": 1267, \"num_examples\": 453, \"num_bytes\": 5796480}\u001b[0m\n",
      "\u001b[34m[12/22/2021 19:04:56 INFO 139703438038848] #quality_metric: host=algo-1, epoch=3, train binary_classification_accuracy <score>=0.6065121412803532\u001b[0m\n",
      "\u001b[34m[12/22/2021 19:04:56 INFO 139703438038848] #quality_metric: host=algo-1, epoch=3, train binary_classification_cross_entropy <loss>=0.6555191934345573\u001b[0m\n",
      "\u001b[34m[12/22/2021 19:04:56 INFO 139703438038848] #quality_metric: host=algo-1, epoch=3, train binary_f_1.000 <score>=0.7003043193167107\u001b[0m\n",
      "\u001b[34m#metrics {\"StartTime\": 1640199895.264622, \"EndTime\": 1640199896.5354793, \"Dimensions\": {\"Algorithm\": \"factorization-machines\", \"Host\": \"algo-1\", \"Operation\": \"training\"}, \"Metrics\": {\"update.time\": {\"sum\": 1270.310878753662, \"count\": 1, \"min\": 1270.310878753662, \"max\": 1270.310878753662}}}\u001b[0m\n",
      "\u001b[34m[12/22/2021 19:04:56 INFO 139703438038848] #progress_metric: host=algo-1, completed 13.333333333333334 % of epochs\u001b[0m\n",
      "\u001b[34m#metrics {\"StartTime\": 1640199895.2651405, \"EndTime\": 1640199896.5356812, \"Dimensions\": {\"Algorithm\": \"factorization-machines\", \"Host\": \"algo-1\", \"Operation\": \"training\", \"epoch\": 3, \"Meta\": \"training_data_iter\"}, \"Metrics\": {\"Total Records Seen\": {\"sum\": 362480.0, \"count\": 1, \"min\": 362480, \"max\": 362480}, \"Total Batches Seen\": {\"sum\": 1813.0, \"count\": 1, \"min\": 1813, \"max\": 1813}, \"Max Records Seen Between Resets\": {\"sum\": 90570.0, \"count\": 1, \"min\": 90570, \"max\": 90570}, \"Max Batches Seen Between Resets\": {\"sum\": 453.0, \"count\": 1, \"min\": 453, \"max\": 453}, \"Reset Count\": {\"sum\": 5.0, \"count\": 1, \"min\": 5, \"max\": 5}, \"Number of Records Since Last Reset\": {\"sum\": 90570.0, \"count\": 1, \"min\": 90570, \"max\": 90570}, \"Number of Batches Since Last Reset\": {\"sum\": 453.0, \"count\": 1, \"min\": 453, \"max\": 453}}}\u001b[0m\n",
      "\u001b[34m[12/22/2021 19:04:56 INFO 139703438038848] #throughput_metric: host=algo-1, train throughput=71278.2037082938 records/second\u001b[0m\n",
      "\u001b[34m[12/22/2021 19:04:56 INFO 139703438038848] #quality_metric: host=algo-1, epoch=4, batch=0 train binary_classification_accuracy <score>=0.665\u001b[0m\n",
      "\u001b[34m[12/22/2021 19:04:56 INFO 139703438038848] #quality_metric: host=algo-1, epoch=4, batch=0 train binary_classification_cross_entropy <loss>=0.618043327331543\u001b[0m\n",
      "\u001b[34m[12/22/2021 19:04:56 INFO 139703438038848] #quality_metric: host=algo-1, epoch=4, batch=0 train binary_f_1.000 <score>=0.7859424920127795\u001b[0m\n",
      "\u001b[34m[2021-12-22 19:04:57.890] [tensorio] [info] epoch_stats={\"data_pipeline\": \"/opt/ml/input/data/train\", \"epoch\": 10, \"duration\": 1352, \"num_examples\": 453, \"num_bytes\": 5796480}\u001b[0m\n",
      "\u001b[34m[12/22/2021 19:04:57 INFO 139703438038848] #quality_metric: host=algo-1, epoch=4, train binary_classification_accuracy <score>=0.6243046357615895\u001b[0m\n",
      "\u001b[34m[12/22/2021 19:04:57 INFO 139703438038848] #quality_metric: host=algo-1, epoch=4, train binary_classification_cross_entropy <loss>=0.6490889570728833\u001b[0m\n",
      "\u001b[34m[12/22/2021 19:04:57 INFO 139703438038848] #quality_metric: host=algo-1, epoch=4, train binary_f_1.000 <score>=0.7086286594761171\u001b[0m\n",
      "\u001b[34m#metrics {\"StartTime\": 1640199896.5355434, \"EndTime\": 1640199897.8911893, \"Dimensions\": {\"Algorithm\": \"factorization-machines\", \"Host\": \"algo-1\", \"Operation\": \"training\"}, \"Metrics\": {\"update.time\": {\"sum\": 1355.0059795379639, \"count\": 1, \"min\": 1355.0059795379639, \"max\": 1355.0059795379639}}}\u001b[0m\n",
      "\u001b[34m[12/22/2021 19:04:57 INFO 139703438038848] #progress_metric: host=algo-1, completed 16.666666666666668 % of epochs\u001b[0m\n",
      "\u001b[34m#metrics {\"StartTime\": 1640199896.5360827, \"EndTime\": 1640199897.891571, \"Dimensions\": {\"Algorithm\": \"factorization-machines\", \"Host\": \"algo-1\", \"Operation\": \"training\", \"epoch\": 4, \"Meta\": \"training_data_iter\"}, \"Metrics\": {\"Total Records Seen\": {\"sum\": 453050.0, \"count\": 1, \"min\": 453050, \"max\": 453050}, \"Total Batches Seen\": {\"sum\": 2266.0, \"count\": 1, \"min\": 2266, \"max\": 2266}, \"Max Records Seen Between Resets\": {\"sum\": 90570.0, \"count\": 1, \"min\": 90570, \"max\": 90570}, \"Max Batches Seen Between Resets\": {\"sum\": 453.0, \"count\": 1, \"min\": 453, \"max\": 453}, \"Reset Count\": {\"sum\": 6.0, \"count\": 1, \"min\": 6, \"max\": 6}, \"Number of Records Since Last Reset\": {\"sum\": 90570.0, \"count\": 1, \"min\": 90570, \"max\": 90570}, \"Number of Batches Since Last Reset\": {\"sum\": 453.0, \"count\": 1, \"min\": 453, \"max\": 453}}}\u001b[0m\n",
      "\u001b[34m[12/22/2021 19:04:57 INFO 139703438038848] #throughput_metric: host=algo-1, train throughput=66806.53290521227 records/second\u001b[0m\n",
      "\u001b[34m[12/22/2021 19:04:57 INFO 139703438038848] #quality_metric: host=algo-1, epoch=5, batch=0 train binary_classification_accuracy <score>=0.685\u001b[0m\n",
      "\u001b[34m[12/22/2021 19:04:57 INFO 139703438038848] #quality_metric: host=algo-1, epoch=5, batch=0 train binary_classification_cross_entropy <loss>=0.6114289474487304\u001b[0m\n",
      "\u001b[34m[12/22/2021 19:04:57 INFO 139703438038848] #quality_metric: host=algo-1, epoch=5, batch=0 train binary_f_1.000 <score>=0.7961165048543689\u001b[0m\n",
      "\u001b[34m[2021-12-22 19:04:59.253] [tensorio] [info] epoch_stats={\"data_pipeline\": \"/opt/ml/input/data/train\", \"epoch\": 12, \"duration\": 1350, \"num_examples\": 453, \"num_bytes\": 5796480}\u001b[0m\n",
      "\u001b[34m[12/22/2021 19:04:59 INFO 139703438038848] #quality_metric: host=algo-1, epoch=5, train binary_classification_accuracy <score>=0.6383995584988963\u001b[0m\n",
      "\u001b[34m[12/22/2021 19:04:59 INFO 139703438038848] #quality_metric: host=algo-1, epoch=5, train binary_classification_cross_entropy <loss>=0.6436392950432717\u001b[0m\n",
      "\u001b[34m[12/22/2021 19:04:59 INFO 139703438038848] #quality_metric: host=algo-1, epoch=5, train binary_f_1.000 <score>=0.7156928257153023\u001b[0m\n",
      "\u001b[34m#metrics {\"StartTime\": 1640199897.8912845, \"EndTime\": 1640199899.2540352, \"Dimensions\": {\"Algorithm\": \"factorization-machines\", \"Host\": \"algo-1\", \"Operation\": \"training\"}, \"Metrics\": {\"update.time\": {\"sum\": 1361.9415760040283, \"count\": 1, \"min\": 1361.9415760040283, \"max\": 1361.9415760040283}}}\u001b[0m\n",
      "\u001b[34m[12/22/2021 19:04:59 INFO 139703438038848] #progress_metric: host=algo-1, completed 20.0 % of epochs\u001b[0m\n",
      "\u001b[34m#metrics {\"StartTime\": 1640199897.8920622, \"EndTime\": 1640199899.2543116, \"Dimensions\": {\"Algorithm\": \"factorization-machines\", \"Host\": \"algo-1\", \"Operation\": \"training\", \"epoch\": 5, \"Meta\": \"training_data_iter\"}, \"Metrics\": {\"Total Records Seen\": {\"sum\": 543620.0, \"count\": 1, \"min\": 543620, \"max\": 543620}, \"Total Batches Seen\": {\"sum\": 2719.0, \"count\": 1, \"min\": 2719, \"max\": 2719}, \"Max Records Seen Between Resets\": {\"sum\": 90570.0, \"count\": 1, \"min\": 90570, \"max\": 90570}, \"Max Batches Seen Between Resets\": {\"sum\": 453.0, \"count\": 1, \"min\": 453, \"max\": 453}, \"Reset Count\": {\"sum\": 7.0, \"count\": 1, \"min\": 7, \"max\": 7}, \"Number of Records Since Last Reset\": {\"sum\": 90570.0, \"count\": 1, \"min\": 90570, \"max\": 90570}, \"Number of Batches Since Last Reset\": {\"sum\": 453.0, \"count\": 1, \"min\": 453, \"max\": 453}}}\u001b[0m\n",
      "\u001b[34m[12/22/2021 19:04:59 INFO 139703438038848] #throughput_metric: host=algo-1, train throughput=66478.72466894785 records/second\u001b[0m\n",
      "\u001b[34m[12/22/2021 19:04:59 INFO 139703438038848] #quality_metric: host=algo-1, epoch=6, batch=0 train binary_classification_accuracy <score>=0.695\u001b[0m\n",
      "\u001b[34m[12/22/2021 19:04:59 INFO 139703438038848] #quality_metric: host=algo-1, epoch=6, batch=0 train binary_classification_cross_entropy <loss>=0.6059894180297851\u001b[0m\n",
      "\u001b[34m[12/22/2021 19:04:59 INFO 139703438038848] #quality_metric: host=algo-1, epoch=6, batch=0 train binary_f_1.000 <score>=0.7986798679867987\u001b[0m\n",
      "\u001b[34m[2021-12-22 19:05:00.585] [tensorio] [info] epoch_stats={\"data_pipeline\": \"/opt/ml/input/data/train\", \"epoch\": 14, \"duration\": 1329, \"num_examples\": 453, \"num_bytes\": 5796480}\u001b[0m\n",
      "\u001b[34m[12/22/2021 19:05:00 INFO 139703438038848] #quality_metric: host=algo-1, epoch=6, train binary_classification_accuracy <score>=0.6489293598233996\u001b[0m\n",
      "\u001b[34m[12/22/2021 19:05:00 INFO 139703438038848] #quality_metric: host=algo-1, epoch=6, train binary_classification_cross_entropy <loss>=0.638899607542598\u001b[0m\n",
      "\u001b[34m[12/22/2021 19:05:00 INFO 139703438038848] #quality_metric: host=algo-1, epoch=6, train binary_f_1.000 <score>=0.7208908467080266\u001b[0m\n",
      "\u001b[34m#metrics {\"StartTime\": 1640199899.2541351, \"EndTime\": 1640199900.5863636, \"Dimensions\": {\"Algorithm\": \"factorization-machines\", \"Host\": \"algo-1\", \"Operation\": \"training\"}, \"Metrics\": {\"update.time\": {\"sum\": 1331.7310810089111, \"count\": 1, \"min\": 1331.7310810089111, \"max\": 1331.7310810089111}}}\u001b[0m\n",
      "\u001b[34m[12/22/2021 19:05:00 INFO 139703438038848] #progress_metric: host=algo-1, completed 23.333333333333332 % of epochs\u001b[0m\n",
      "\u001b[34m#metrics {\"StartTime\": 1640199899.2545986, \"EndTime\": 1640199900.586572, \"Dimensions\": {\"Algorithm\": \"factorization-machines\", \"Host\": \"algo-1\", \"Operation\": \"training\", \"epoch\": 6, \"Meta\": \"training_data_iter\"}, \"Metrics\": {\"Total Records Seen\": {\"sum\": 634190.0, \"count\": 1, \"min\": 634190, \"max\": 634190}, \"Total Batches Seen\": {\"sum\": 3172.0, \"count\": 1, \"min\": 3172, \"max\": 3172}, \"Max Records Seen Between Resets\": {\"sum\": 90570.0, \"count\": 1, \"min\": 90570, \"max\": 90570}, \"Max Batches Seen Between Resets\": {\"sum\": 453.0, \"count\": 1, \"min\": 453, \"max\": 453}, \"Reset Count\": {\"sum\": 8.0, \"count\": 1, \"min\": 8, \"max\": 8}, \"Number of Records Since Last Reset\": {\"sum\": 90570.0, \"count\": 1, \"min\": 90570, \"max\": 90570}, \"Number of Batches Since Last Reset\": {\"sum\": 453.0, \"count\": 1, \"min\": 453, \"max\": 453}}}\u001b[0m\n",
      "\u001b[34m[12/22/2021 19:05:00 INFO 139703438038848] #throughput_metric: host=algo-1, train throughput=67990.51716219616 records/second\u001b[0m\n",
      "\u001b[34m[12/22/2021 19:05:00 INFO 139703438038848] #quality_metric: host=algo-1, epoch=7, batch=0 train binary_classification_accuracy <score>=0.71\u001b[0m\n",
      "\u001b[34m[12/22/2021 19:05:00 INFO 139703438038848] #quality_metric: host=algo-1, epoch=7, batch=0 train binary_classification_cross_entropy <loss>=0.6014059829711914\u001b[0m\n",
      "\u001b[34m[12/22/2021 19:05:00 INFO 139703438038848] #quality_metric: host=algo-1, epoch=7, batch=0 train binary_f_1.000 <score>=0.8066666666666666\u001b[0m\n",
      "\u001b[34m[2021-12-22 19:05:01.929] [tensorio] [info] epoch_stats={\"data_pipeline\": \"/opt/ml/input/data/train\", \"epoch\": 16, \"duration\": 1341, \"num_examples\": 453, \"num_bytes\": 5796480}\u001b[0m\n",
      "\u001b[34m[12/22/2021 19:05:01 INFO 139703438038848] #quality_metric: host=algo-1, epoch=7, train binary_classification_accuracy <score>=0.6571743929359823\u001b[0m\n",
      "\u001b[34m[12/22/2021 19:05:01 INFO 139703438038848] #quality_metric: host=algo-1, epoch=7, train binary_classification_cross_entropy <loss>=0.6346878567962984\u001b[0m\n",
      "\u001b[34m[12/22/2021 19:05:01 INFO 139703438038848] #quality_metric: host=algo-1, epoch=7, train binary_f_1.000 <score>=0.7251230132040072\u001b[0m\n",
      "\u001b[34m#metrics {\"StartTime\": 1640199900.5864332, \"EndTime\": 1640199901.9304206, \"Dimensions\": {\"Algorithm\": \"factorization-machines\", \"Host\": \"algo-1\", \"Operation\": \"training\"}, \"Metrics\": {\"update.time\": {\"sum\": 1343.5845375061035, \"count\": 1, \"min\": 1343.5845375061035, \"max\": 1343.5845375061035}}}\u001b[0m\n",
      "\u001b[34m[12/22/2021 19:05:01 INFO 139703438038848] #progress_metric: host=algo-1, completed 26.666666666666668 % of epochs\u001b[0m\n",
      "\u001b[34m#metrics {\"StartTime\": 1640199900.5868132, \"EndTime\": 1640199901.9307456, \"Dimensions\": {\"Algorithm\": \"factorization-machines\", \"Host\": \"algo-1\", \"Operation\": \"training\", \"epoch\": 7, \"Meta\": \"training_data_iter\"}, \"Metrics\": {\"Total Records Seen\": {\"sum\": 724760.0, \"count\": 1, \"min\": 724760, \"max\": 724760}, \"Total Batches Seen\": {\"sum\": 3625.0, \"count\": 1, \"min\": 3625, \"max\": 3625}, \"Max Records Seen Between Resets\": {\"sum\": 90570.0, \"count\": 1, \"min\": 90570, \"max\": 90570}, \"Max Batches Seen Between Resets\": {\"sum\": 453.0, \"count\": 1, \"min\": 453, \"max\": 453}, \"Reset Count\": {\"sum\": 9.0, \"count\": 1, \"min\": 9, \"max\": 9}, \"Number of Records Since Last Reset\": {\"sum\": 90570.0, \"count\": 1, \"min\": 90570, \"max\": 90570}, \"Number of Batches Since Last Reset\": {\"sum\": 453.0, \"count\": 1, \"min\": 453, \"max\": 453}}}\u001b[0m\n",
      "\u001b[34m[12/22/2021 19:05:01 INFO 139703438038848] #throughput_metric: host=algo-1, train throughput=67385.62644748195 records/second\u001b[0m\n",
      "\u001b[34m[12/22/2021 19:05:01 INFO 139703438038848] #quality_metric: host=algo-1, epoch=8, batch=0 train binary_classification_accuracy <score>=0.715\u001b[0m\n",
      "\u001b[34m[12/22/2021 19:05:01 INFO 139703438038848] #quality_metric: host=algo-1, epoch=8, batch=0 train binary_classification_cross_entropy <loss>=0.5974574279785156\u001b[0m\n",
      "\u001b[34m[12/22/2021 19:05:01 INFO 139703438038848] #quality_metric: host=algo-1, epoch=8, batch=0 train binary_f_1.000 <score>=0.8067796610169492\u001b[0m\n",
      "\u001b[34m[2021-12-22 19:05:03.489] [tensorio] [info] epoch_stats={\"data_pipeline\": \"/opt/ml/input/data/train\", \"epoch\": 18, \"duration\": 1556, \"num_examples\": 453, \"num_bytes\": 5796480}\u001b[0m\n",
      "\u001b[34m[12/22/2021 19:05:03 INFO 139703438038848] #quality_metric: host=algo-1, epoch=8, train binary_classification_accuracy <score>=0.6643267108167771\u001b[0m\n",
      "\u001b[34m[12/22/2021 19:05:03 INFO 139703438038848] #quality_metric: host=algo-1, epoch=8, train binary_classification_cross_entropy <loss>=0.6308788040194817\u001b[0m\n",
      "\u001b[34m[12/22/2021 19:05:03 INFO 139703438038848] #quality_metric: host=algo-1, epoch=8, train binary_f_1.000 <score>=0.7289724623473843\u001b[0m\n",
      "\u001b[34m#metrics {\"StartTime\": 1640199901.930585, \"EndTime\": 1640199903.4898596, \"Dimensions\": {\"Algorithm\": \"factorization-machines\", \"Host\": \"algo-1\", \"Operation\": \"training\"}, \"Metrics\": {\"update.time\": {\"sum\": 1558.793544769287, \"count\": 1, \"min\": 1558.793544769287, \"max\": 1558.793544769287}}}\u001b[0m\n",
      "\u001b[34m[12/22/2021 19:05:03 INFO 139703438038848] #progress_metric: host=algo-1, completed 30.0 % of epochs\u001b[0m\n",
      "\u001b[34m#metrics {\"StartTime\": 1640199901.9310331, \"EndTime\": 1640199903.4901268, \"Dimensions\": {\"Algorithm\": \"factorization-machines\", \"Host\": \"algo-1\", \"Operation\": \"training\", \"epoch\": 8, \"Meta\": \"training_data_iter\"}, \"Metrics\": {\"Total Records Seen\": {\"sum\": 815330.0, \"count\": 1, \"min\": 815330, \"max\": 815330}, \"Total Batches Seen\": {\"sum\": 4078.0, \"count\": 1, \"min\": 4078, \"max\": 4078}, \"Max Records Seen Between Resets\": {\"sum\": 90570.0, \"count\": 1, \"min\": 90570, \"max\": 90570}, \"Max Batches Seen Between Resets\": {\"sum\": 453.0, \"count\": 1, \"min\": 453, \"max\": 453}, \"Reset Count\": {\"sum\": 10.0, \"count\": 1, \"min\": 10, \"max\": 10}, \"Number of Records Since Last Reset\": {\"sum\": 90570.0, \"count\": 1, \"min\": 90570, \"max\": 90570}, \"Number of Batches Since Last Reset\": {\"sum\": 453.0, \"count\": 1, \"min\": 453, \"max\": 453}}}\u001b[0m\n",
      "\u001b[34m[12/22/2021 19:05:03 INFO 139703438038848] #throughput_metric: host=algo-1, train throughput=58086.510810309934 records/second\u001b[0m\n",
      "\u001b[34m[12/22/2021 19:05:03 INFO 139703438038848] #quality_metric: host=algo-1, epoch=9, batch=0 train binary_classification_accuracy <score>=0.71\u001b[0m\n",
      "\u001b[34m[12/22/2021 19:05:03 INFO 139703438038848] #quality_metric: host=algo-1, epoch=9, batch=0 train binary_classification_cross_entropy <loss>=0.5939879608154297\u001b[0m\n",
      "\u001b[34m[12/22/2021 19:05:03 INFO 139703438038848] #quality_metric: host=algo-1, epoch=9, batch=0 train binary_f_1.000 <score>=0.8\u001b[0m\n",
      "\u001b[34m[2021-12-22 19:05:05.063] [tensorio] [info] epoch_stats={\"data_pipeline\": \"/opt/ml/input/data/train\", \"epoch\": 20, \"duration\": 1570, \"num_examples\": 453, \"num_bytes\": 5796480}\u001b[0m\n",
      "\u001b[34m[12/22/2021 19:05:05 INFO 139703438038848] #quality_metric: host=algo-1, epoch=9, train binary_classification_accuracy <score>=0.6702980132450331\u001b[0m\n",
      "\u001b[34m[12/22/2021 19:05:05 INFO 139703438038848] #quality_metric: host=algo-1, epoch=9, train binary_classification_cross_entropy <loss>=0.6273843320631823\u001b[0m\n",
      "\u001b[34m[12/22/2021 19:05:05 INFO 139703438038848] #quality_metric: host=algo-1, epoch=9, train binary_f_1.000 <score>=0.732379476244658\u001b[0m\n",
      "\u001b[34m#metrics {\"StartTime\": 1640199903.4899435, \"EndTime\": 1640199905.0641823, \"Dimensions\": {\"Algorithm\": \"factorization-machines\", \"Host\": \"algo-1\", \"Operation\": \"training\"}, \"Metrics\": {\"update.time\": {\"sum\": 1573.7202167510986, \"count\": 1, \"min\": 1573.7202167510986, \"max\": 1573.7202167510986}}}\u001b[0m\n",
      "\u001b[34m[12/22/2021 19:05:05 INFO 139703438038848] #progress_metric: host=algo-1, completed 33.333333333333336 % of epochs\u001b[0m\n",
      "\u001b[34m#metrics {\"StartTime\": 1640199903.4904277, \"EndTime\": 1640199905.0644333, \"Dimensions\": {\"Algorithm\": \"factorization-machines\", \"Host\": \"algo-1\", \"Operation\": \"training\", \"epoch\": 9, \"Meta\": \"training_data_iter\"}, \"Metrics\": {\"Total Records Seen\": {\"sum\": 905900.0, \"count\": 1, \"min\": 905900, \"max\": 905900}, \"Total Batches Seen\": {\"sum\": 4531.0, \"count\": 1, \"min\": 4531, \"max\": 4531}, \"Max Records Seen Between Resets\": {\"sum\": 90570.0, \"count\": 1, \"min\": 90570, \"max\": 90570}, \"Max Batches Seen Between Resets\": {\"sum\": 453.0, \"count\": 1, \"min\": 453, \"max\": 453}, \"Reset Count\": {\"sum\": 11.0, \"count\": 1, \"min\": 11, \"max\": 11}, \"Number of Records Since Last Reset\": {\"sum\": 90570.0, \"count\": 1, \"min\": 90570, \"max\": 90570}, \"Number of Batches Since Last Reset\": {\"sum\": 453.0, \"count\": 1, \"min\": 453, \"max\": 453}}}\u001b[0m\n",
      "\u001b[34m[12/22/2021 19:05:05 INFO 139703438038848] #throughput_metric: host=algo-1, train throughput=57535.94056993094 records/second\u001b[0m\n",
      "\u001b[34m[12/22/2021 19:05:05 INFO 139703438038848] #quality_metric: host=algo-1, epoch=10, batch=0 train binary_classification_accuracy <score>=0.73\u001b[0m\n",
      "\u001b[34m[12/22/2021 19:05:05 INFO 139703438038848] #quality_metric: host=algo-1, epoch=10, batch=0 train binary_classification_cross_entropy <loss>=0.5908863067626953\u001b[0m\n",
      "\u001b[34m[12/22/2021 19:05:05 INFO 139703438038848] #quality_metric: host=algo-1, epoch=10, batch=0 train binary_f_1.000 <score>=0.8111888111888111\u001b[0m\n",
      "\u001b[34m[2021-12-22 19:05:06.593] [tensorio] [info] epoch_stats={\"data_pipeline\": \"/opt/ml/input/data/train\", \"epoch\": 22, \"duration\": 1525, \"num_examples\": 453, \"num_bytes\": 5796480}\u001b[0m\n",
      "\u001b[34m[12/22/2021 19:05:06 INFO 139703438038848] #quality_metric: host=algo-1, epoch=10, train binary_classification_accuracy <score>=0.6750993377483444\u001b[0m\n",
      "\u001b[34m[12/22/2021 19:05:06 INFO 139703438038848] #quality_metric: host=algo-1, epoch=10, train binary_classification_cross_entropy <loss>=0.6241411480261527\u001b[0m\n",
      "\u001b[34m[12/22/2021 19:05:06 INFO 139703438038848] #quality_metric: host=algo-1, epoch=10, train binary_f_1.000 <score>=0.7352068078369286\u001b[0m\n",
      "\u001b[34m#metrics {\"StartTime\": 1640199905.0642562, \"EndTime\": 1640199906.5944989, \"Dimensions\": {\"Algorithm\": \"factorization-machines\", \"Host\": \"algo-1\", \"Operation\": \"training\"}, \"Metrics\": {\"update.time\": {\"sum\": 1529.714822769165, \"count\": 1, \"min\": 1529.714822769165, \"max\": 1529.714822769165}}}\u001b[0m\n",
      "\u001b[34m[12/22/2021 19:05:06 INFO 139703438038848] #progress_metric: host=algo-1, completed 36.666666666666664 % of epochs\u001b[0m\n",
      "\u001b[34m#metrics {\"StartTime\": 1640199905.064756, \"EndTime\": 1640199906.5948117, \"Dimensions\": {\"Algorithm\": \"factorization-machines\", \"Host\": \"algo-1\", \"Operation\": \"training\", \"epoch\": 10, \"Meta\": \"training_data_iter\"}, \"Metrics\": {\"Total Records Seen\": {\"sum\": 996470.0, \"count\": 1, \"min\": 996470, \"max\": 996470}, \"Total Batches Seen\": {\"sum\": 4984.0, \"count\": 1, \"min\": 4984, \"max\": 4984}, \"Max Records Seen Between Resets\": {\"sum\": 90570.0, \"count\": 1, \"min\": 90570, \"max\": 90570}, \"Max Batches Seen Between Resets\": {\"sum\": 453.0, \"count\": 1, \"min\": 453, \"max\": 453}, \"Reset Count\": {\"sum\": 12.0, \"count\": 1, \"min\": 12, \"max\": 12}, \"Number of Records Since Last Reset\": {\"sum\": 90570.0, \"count\": 1, \"min\": 90570, \"max\": 90570}, \"Number of Batches Since Last Reset\": {\"sum\": 453.0, \"count\": 1, \"min\": 453, \"max\": 453}}}\u001b[0m\n",
      "\u001b[34m[12/22/2021 19:05:06 INFO 139703438038848] #throughput_metric: host=algo-1, train throughput=59188.313550043495 records/second\u001b[0m\n",
      "\u001b[34m[12/22/2021 19:05:06 INFO 139703438038848] #quality_metric: host=algo-1, epoch=11, batch=0 train binary_classification_accuracy <score>=0.735\u001b[0m\n",
      "\u001b[34m[12/22/2021 19:05:06 INFO 139703438038848] #quality_metric: host=algo-1, epoch=11, batch=0 train binary_classification_cross_entropy <loss>=0.588071517944336\u001b[0m\n",
      "\u001b[34m[12/22/2021 19:05:06 INFO 139703438038848] #quality_metric: host=algo-1, epoch=11, batch=0 train binary_f_1.000 <score>=0.8140350877192982\u001b[0m\n",
      "\u001b[34m[2021-12-22 19:05:07.932] [tensorio] [info] epoch_stats={\"data_pipeline\": \"/opt/ml/input/data/train\", \"epoch\": 24, \"duration\": 1335, \"num_examples\": 453, \"num_bytes\": 5796480}\u001b[0m\n",
      "\u001b[34m[12/22/2021 19:05:07 INFO 139703438038848] #quality_metric: host=algo-1, epoch=11, train binary_classification_accuracy <score>=0.6796467991169978\u001b[0m\n",
      "\u001b[34m[12/22/2021 19:05:07 INFO 139703438038848] #quality_metric: host=algo-1, epoch=11, train binary_classification_cross_entropy <loss>=0.621102894241973\u001b[0m\n",
      "\u001b[34m[12/22/2021 19:05:07 INFO 139703438038848] #quality_metric: host=algo-1, epoch=11, train binary_f_1.000 <score>=0.7378660067556583\u001b[0m\n",
      "\u001b[34m#metrics {\"StartTime\": 1640199906.5945997, \"EndTime\": 1640199907.9333072, \"Dimensions\": {\"Algorithm\": \"factorization-machines\", \"Host\": \"algo-1\", \"Operation\": \"training\"}, \"Metrics\": {\"update.time\": {\"sum\": 1338.1338119506836, \"count\": 1, \"min\": 1338.1338119506836, \"max\": 1338.1338119506836}}}\u001b[0m\n",
      "\u001b[34m[12/22/2021 19:05:07 INFO 139703438038848] #progress_metric: host=algo-1, completed 40.0 % of epochs\u001b[0m\n",
      "\u001b[34m#metrics {\"StartTime\": 1640199906.5951452, \"EndTime\": 1640199907.9335198, \"Dimensions\": {\"Algorithm\": \"factorization-machines\", \"Host\": \"algo-1\", \"Operation\": \"training\", \"epoch\": 11, \"Meta\": \"training_data_iter\"}, \"Metrics\": {\"Total Records Seen\": {\"sum\": 1087040.0, \"count\": 1, \"min\": 1087040, \"max\": 1087040}, \"Total Batches Seen\": {\"sum\": 5437.0, \"count\": 1, \"min\": 5437, \"max\": 5437}, \"Max Records Seen Between Resets\": {\"sum\": 90570.0, \"count\": 1, \"min\": 90570, \"max\": 90570}, \"Max Batches Seen Between Resets\": {\"sum\": 453.0, \"count\": 1, \"min\": 453, \"max\": 453}, \"Reset Count\": {\"sum\": 13.0, \"count\": 1, \"min\": 13, \"max\": 13}, \"Number of Records Since Last Reset\": {\"sum\": 90570.0, \"count\": 1, \"min\": 90570, \"max\": 90570}, \"Number of Batches Since Last Reset\": {\"sum\": 453.0, \"count\": 1, \"min\": 453, \"max\": 453}}}\u001b[0m\n",
      "\u001b[34m[12/22/2021 19:05:07 INFO 139703438038848] #throughput_metric: host=algo-1, train throughput=67665.75382639021 records/second\u001b[0m\n",
      "\u001b[34m[12/22/2021 19:05:07 INFO 139703438038848] #quality_metric: host=algo-1, epoch=12, batch=0 train binary_classification_accuracy <score>=0.74\u001b[0m\n",
      "\u001b[34m[12/22/2021 19:05:07 INFO 139703438038848] #quality_metric: host=algo-1, epoch=12, batch=0 train binary_classification_cross_entropy <loss>=0.5854842376708984\u001b[0m\n",
      "\u001b[34m[12/22/2021 19:05:07 INFO 139703438038848] #quality_metric: host=algo-1, epoch=12, batch=0 train binary_f_1.000 <score>=0.8169014084507042\u001b[0m\n",
      "\u001b[34m[2021-12-22 19:05:09.335] [tensorio] [info] epoch_stats={\"data_pipeline\": \"/opt/ml/input/data/train\", \"epoch\": 26, \"duration\": 1399, \"num_examples\": 453, \"num_bytes\": 5796480}\u001b[0m\n",
      "\u001b[34m[12/22/2021 19:05:09 INFO 139703438038848] #quality_metric: host=algo-1, epoch=12, train binary_classification_accuracy <score>=0.6836313465783664\u001b[0m\n",
      "\u001b[34m[12/22/2021 19:05:09 INFO 139703438038848] #quality_metric: host=algo-1, epoch=12, train binary_classification_cross_entropy <loss>=0.618235033468958\u001b[0m\n",
      "\u001b[34m[12/22/2021 19:05:09 INFO 139703438038848] #quality_metric: host=algo-1, epoch=12, train binary_f_1.000 <score>=0.7403408010001178\u001b[0m\n",
      "\u001b[34m#metrics {\"StartTime\": 1640199907.9333813, \"EndTime\": 1640199909.3357089, \"Dimensions\": {\"Algorithm\": \"factorization-machines\", \"Host\": \"algo-1\", \"Operation\": \"training\"}, \"Metrics\": {\"update.time\": {\"sum\": 1401.8917083740234, \"count\": 1, \"min\": 1401.8917083740234, \"max\": 1401.8917083740234}}}\u001b[0m\n",
      "\u001b[34m[12/22/2021 19:05:09 INFO 139703438038848] #progress_metric: host=algo-1, completed 43.333333333333336 % of epochs\u001b[0m\n",
      "\u001b[34m#metrics {\"StartTime\": 1640199907.933791, \"EndTime\": 1640199909.335966, \"Dimensions\": {\"Algorithm\": \"factorization-machines\", \"Host\": \"algo-1\", \"Operation\": \"training\", \"epoch\": 12, \"Meta\": \"training_data_iter\"}, \"Metrics\": {\"Total Records Seen\": {\"sum\": 1177610.0, \"count\": 1, \"min\": 1177610, \"max\": 1177610}, \"Total Batches Seen\": {\"sum\": 5890.0, \"count\": 1, \"min\": 5890, \"max\": 5890}, \"Max Records Seen Between Resets\": {\"sum\": 90570.0, \"count\": 1, \"min\": 90570, \"max\": 90570}, \"Max Batches Seen Between Resets\": {\"sum\": 453.0, \"count\": 1, \"min\": 453, \"max\": 453}, \"Reset Count\": {\"sum\": 14.0, \"count\": 1, \"min\": 14, \"max\": 14}, \"Number of Records Since Last Reset\": {\"sum\": 90570.0, \"count\": 1, \"min\": 90570, \"max\": 90570}, \"Number of Batches Since Last Reset\": {\"sum\": 453.0, \"count\": 1, \"min\": 453, \"max\": 453}}}\u001b[0m\n",
      "\u001b[34m[12/22/2021 19:05:09 INFO 139703438038848] #throughput_metric: host=algo-1, train throughput=64586.04206206432 records/second\u001b[0m\n",
      "\u001b[34m[12/22/2021 19:05:09 INFO 139703438038848] #quality_metric: host=algo-1, epoch=13, batch=0 train binary_classification_accuracy <score>=0.745\u001b[0m\n",
      "\u001b[34m[12/22/2021 19:05:09 INFO 139703438038848] #quality_metric: host=algo-1, epoch=13, batch=0 train binary_classification_cross_entropy <loss>=0.5830802154541016\u001b[0m\n",
      "\u001b[34m[12/22/2021 19:05:09 INFO 139703438038848] #quality_metric: host=algo-1, epoch=13, batch=0 train binary_f_1.000 <score>=0.8197879858657244\u001b[0m\n",
      "\u001b[34m[2021-12-22 19:05:10.737] [tensorio] [info] epoch_stats={\"data_pipeline\": \"/opt/ml/input/data/train\", \"epoch\": 28, \"duration\": 1399, \"num_examples\": 453, \"num_bytes\": 5796480}\u001b[0m\n",
      "\u001b[34m[12/22/2021 19:05:10 INFO 139703438038848] #quality_metric: host=algo-1, epoch=13, train binary_classification_accuracy <score>=0.6876931567328919\u001b[0m\n",
      "\u001b[34m[12/22/2021 19:05:10 INFO 139703438038848] #quality_metric: host=algo-1, epoch=13, train binary_classification_cross_entropy <loss>=0.6155113983154297\u001b[0m\n",
      "\u001b[34m[12/22/2021 19:05:10 INFO 139703438038848] #quality_metric: host=algo-1, epoch=13, train binary_f_1.000 <score>=0.7429993551141266\u001b[0m\n",
      "\u001b[34m#metrics {\"StartTime\": 1640199909.3358157, \"EndTime\": 1640199910.7378373, \"Dimensions\": {\"Algorithm\": \"factorization-machines\", \"Host\": \"algo-1\", \"Operation\": \"training\"}, \"Metrics\": {\"update.time\": {\"sum\": 1401.6296863555908, \"count\": 1, \"min\": 1401.6296863555908, \"max\": 1401.6296863555908}}}\u001b[0m\n",
      "\u001b[34m[12/22/2021 19:05:10 INFO 139703438038848] #progress_metric: host=algo-1, completed 46.666666666666664 % of epochs\u001b[0m\n",
      "\u001b[34m#metrics {\"StartTime\": 1640199909.3361802, \"EndTime\": 1640199910.7380347, \"Dimensions\": {\"Algorithm\": \"factorization-machines\", \"Host\": \"algo-1\", \"Operation\": \"training\", \"epoch\": 13, \"Meta\": \"training_data_iter\"}, \"Metrics\": {\"Total Records Seen\": {\"sum\": 1268180.0, \"count\": 1, \"min\": 1268180, \"max\": 1268180}, \"Total Batches Seen\": {\"sum\": 6343.0, \"count\": 1, \"min\": 6343, \"max\": 6343}, \"Max Records Seen Between Resets\": {\"sum\": 90570.0, \"count\": 1, \"min\": 90570, \"max\": 90570}, \"Max Batches Seen Between Resets\": {\"sum\": 453.0, \"count\": 1, \"min\": 453, \"max\": 453}, \"Reset Count\": {\"sum\": 15.0, \"count\": 1, \"min\": 15, \"max\": 15}, \"Number of Records Since Last Reset\": {\"sum\": 90570.0, \"count\": 1, \"min\": 90570, \"max\": 90570}, \"Number of Batches Since Last Reset\": {\"sum\": 453.0, \"count\": 1, \"min\": 453, \"max\": 453}}}\u001b[0m\n",
      "\u001b[34m[12/22/2021 19:05:10 INFO 139703438038848] #throughput_metric: host=algo-1, train throughput=64602.55038830087 records/second\u001b[0m\n",
      "\u001b[34m[12/22/2021 19:05:10 INFO 139703438038848] #quality_metric: host=algo-1, epoch=14, batch=0 train binary_classification_accuracy <score>=0.74\u001b[0m\n",
      "\u001b[34m[12/22/2021 19:05:10 INFO 139703438038848] #quality_metric: host=algo-1, epoch=14, batch=0 train binary_classification_cross_entropy <loss>=0.5808261871337891\u001b[0m\n",
      "\u001b[34m[12/22/2021 19:05:10 INFO 139703438038848] #quality_metric: host=algo-1, epoch=14, batch=0 train binary_f_1.000 <score>=0.8156028368794326\u001b[0m\n",
      "\u001b[34m[2021-12-22 19:05:11.993] [tensorio] [info] epoch_stats={\"data_pipeline\": \"/opt/ml/input/data/train\", \"epoch\": 30, \"duration\": 1253, \"num_examples\": 453, \"num_bytes\": 5796480}\u001b[0m\n",
      "\u001b[34m[12/22/2021 19:05:11 INFO 139703438038848] #quality_metric: host=algo-1, epoch=14, train binary_classification_accuracy <score>=0.6906953642384106\u001b[0m\n",
      "\u001b[34m[12/22/2021 19:05:11 INFO 139703438038848] #quality_metric: host=algo-1, epoch=14, train binary_classification_cross_entropy <loss>=0.6129118707585283\u001b[0m\n",
      "\u001b[34m[12/22/2021 19:05:11 INFO 139703438038848] #quality_metric: host=algo-1, epoch=14, train binary_f_1.000 <score>=0.7449741998307291\u001b[0m\n",
      "\u001b[34m#metrics {\"StartTime\": 1640199910.7379014, \"EndTime\": 1640199911.994427, \"Dimensions\": {\"Algorithm\": \"factorization-machines\", \"Host\": \"algo-1\", \"Operation\": \"training\"}, \"Metrics\": {\"update.time\": {\"sum\": 1256.150245666504, \"count\": 1, \"min\": 1256.150245666504, \"max\": 1256.150245666504}}}\u001b[0m\n",
      "\u001b[34m[12/22/2021 19:05:11 INFO 139703438038848] #progress_metric: host=algo-1, completed 50.0 % of epochs\u001b[0m\n",
      "\u001b[34m#metrics {\"StartTime\": 1640199910.7382457, \"EndTime\": 1640199911.994778, \"Dimensions\": {\"Algorithm\": \"factorization-machines\", \"Host\": \"algo-1\", \"Operation\": \"training\", \"epoch\": 14, \"Meta\": \"training_data_iter\"}, \"Metrics\": {\"Total Records Seen\": {\"sum\": 1358750.0, \"count\": 1, \"min\": 1358750, \"max\": 1358750}, \"Total Batches Seen\": {\"sum\": 6796.0, \"count\": 1, \"min\": 6796, \"max\": 6796}, \"Max Records Seen Between Resets\": {\"sum\": 90570.0, \"count\": 1, \"min\": 90570, \"max\": 90570}, \"Max Batches Seen Between Resets\": {\"sum\": 453.0, \"count\": 1, \"min\": 453, \"max\": 453}, \"Reset Count\": {\"sum\": 16.0, \"count\": 1, \"min\": 16, \"max\": 16}, \"Number of Records Since Last Reset\": {\"sum\": 90570.0, \"count\": 1, \"min\": 90570, \"max\": 90570}, \"Number of Batches Since Last Reset\": {\"sum\": 453.0, \"count\": 1, \"min\": 453, \"max\": 453}}}\u001b[0m\n",
      "\u001b[34m[12/22/2021 19:05:11 INFO 139703438038848] #throughput_metric: host=algo-1, train throughput=72070.85268582318 records/second\u001b[0m\n",
      "\u001b[34m[12/22/2021 19:05:12 INFO 139703438038848] #quality_metric: host=algo-1, epoch=15, batch=0 train binary_classification_accuracy <score>=0.745\u001b[0m\n",
      "\u001b[34m[12/22/2021 19:05:12 INFO 139703438038848] #quality_metric: host=algo-1, epoch=15, batch=0 train binary_classification_cross_entropy <loss>=0.5786966705322265\u001b[0m\n",
      "\u001b[34m[12/22/2021 19:05:12 INFO 139703438038848] #quality_metric: host=algo-1, epoch=15, batch=0 train binary_f_1.000 <score>=0.8185053380782918\u001b[0m\n",
      "\u001b[34m[2021-12-22 19:05:13.247] [tensorio] [info] epoch_stats={\"data_pipeline\": \"/opt/ml/input/data/train\", \"epoch\": 32, \"duration\": 1250, \"num_examples\": 453, \"num_bytes\": 5796480}\u001b[0m\n",
      "\u001b[34m[12/22/2021 19:05:13 INFO 139703438038848] #quality_metric: host=algo-1, epoch=15, train binary_classification_accuracy <score>=0.6935540838852097\u001b[0m\n",
      "\u001b[34m[12/22/2021 19:05:13 INFO 139703438038848] #quality_metric: host=algo-1, epoch=15, train binary_classification_cross_entropy <loss>=0.6104207651504617\u001b[0m\n",
      "\u001b[34m[12/22/2021 19:05:13 INFO 139703438038848] #quality_metric: host=algo-1, epoch=15, train binary_f_1.000 <score>=0.7468266705573388\u001b[0m\n",
      "\u001b[34m#metrics {\"StartTime\": 1640199911.9945755, \"EndTime\": 1640199913.2478628, \"Dimensions\": {\"Algorithm\": \"factorization-machines\", \"Host\": \"algo-1\", \"Operation\": \"training\"}, \"Metrics\": {\"update.time\": {\"sum\": 1252.5174617767334, \"count\": 1, \"min\": 1252.5174617767334, \"max\": 1252.5174617767334}}}\u001b[0m\n",
      "\u001b[34m[12/22/2021 19:05:13 INFO 139703438038848] #progress_metric: host=algo-1, completed 53.333333333333336 % of epochs\u001b[0m\n",
      "\u001b[34m#metrics {\"StartTime\": 1640199911.9953213, \"EndTime\": 1640199913.2480626, \"Dimensions\": {\"Algorithm\": \"factorization-machines\", \"Host\": \"algo-1\", \"Operation\": \"training\", \"epoch\": 15, \"Meta\": \"training_data_iter\"}, \"Metrics\": {\"Total Records Seen\": {\"sum\": 1449320.0, \"count\": 1, \"min\": 1449320, \"max\": 1449320}, \"Total Batches Seen\": {\"sum\": 7249.0, \"count\": 1, \"min\": 7249, \"max\": 7249}, \"Max Records Seen Between Resets\": {\"sum\": 90570.0, \"count\": 1, \"min\": 90570, \"max\": 90570}, \"Max Batches Seen Between Resets\": {\"sum\": 453.0, \"count\": 1, \"min\": 453, \"max\": 453}, \"Reset Count\": {\"sum\": 17.0, \"count\": 1, \"min\": 17, \"max\": 17}, \"Number of Records Since Last Reset\": {\"sum\": 90570.0, \"count\": 1, \"min\": 90570, \"max\": 90570}, \"Number of Batches Since Last Reset\": {\"sum\": 453.0, \"count\": 1, \"min\": 453, \"max\": 453}}}\u001b[0m\n",
      "\u001b[34m[12/22/2021 19:05:13 INFO 139703438038848] #throughput_metric: host=algo-1, train throughput=72290.93903518862 records/second\u001b[0m\n",
      "\u001b[34m[12/22/2021 19:05:13 INFO 139703438038848] #quality_metric: host=algo-1, epoch=16, batch=0 train binary_classification_accuracy <score>=0.74\u001b[0m\n",
      "\u001b[34m[12/22/2021 19:05:13 INFO 139703438038848] #quality_metric: host=algo-1, epoch=16, batch=0 train binary_classification_cross_entropy <loss>=0.5766721343994141\u001b[0m\n",
      "\u001b[34m[12/22/2021 19:05:13 INFO 139703438038848] #quality_metric: host=algo-1, epoch=16, batch=0 train binary_f_1.000 <score>=0.8142857142857143\u001b[0m\n",
      "\u001b[34m[2021-12-22 19:05:14.577] [tensorio] [info] epoch_stats={\"data_pipeline\": \"/opt/ml/input/data/train\", \"epoch\": 34, \"duration\": 1326, \"num_examples\": 453, \"num_bytes\": 5796480}\u001b[0m\n",
      "\u001b[34m[12/22/2021 19:05:14 INFO 139703438038848] #quality_metric: host=algo-1, epoch=16, train binary_classification_accuracy <score>=0.6961368653421633\u001b[0m\n",
      "\u001b[34m[12/22/2021 19:05:14 INFO 139703438038848] #quality_metric: host=algo-1, epoch=16, train binary_classification_cross_entropy <loss>=0.6080256894513735\u001b[0m\n",
      "\u001b[34m[12/22/2021 19:05:14 INFO 139703438038848] #quality_metric: host=algo-1, epoch=16, train binary_f_1.000 <score>=0.748593658679135\u001b[0m\n",
      "\u001b[34m#metrics {\"StartTime\": 1640199913.2479284, \"EndTime\": 1640199914.5776803, \"Dimensions\": {\"Algorithm\": \"factorization-machines\", \"Host\": \"algo-1\", \"Operation\": \"training\"}, \"Metrics\": {\"update.time\": {\"sum\": 1329.0939331054688, \"count\": 1, \"min\": 1329.0939331054688, \"max\": 1329.0939331054688}}}\u001b[0m\n",
      "\u001b[34m[12/22/2021 19:05:14 INFO 139703438038848] #progress_metric: host=algo-1, completed 56.666666666666664 % of epochs\u001b[0m\n",
      "\u001b[34m#metrics {\"StartTime\": 1640199913.24856, \"EndTime\": 1640199914.577882, \"Dimensions\": {\"Algorithm\": \"factorization-machines\", \"Host\": \"algo-1\", \"Operation\": \"training\", \"epoch\": 16, \"Meta\": \"training_data_iter\"}, \"Metrics\": {\"Total Records Seen\": {\"sum\": 1539890.0, \"count\": 1, \"min\": 1539890, \"max\": 1539890}, \"Total Batches Seen\": {\"sum\": 7702.0, \"count\": 1, \"min\": 7702, \"max\": 7702}, \"Max Records Seen Between Resets\": {\"sum\": 90570.0, \"count\": 1, \"min\": 90570, \"max\": 90570}, \"Max Batches Seen Between Resets\": {\"sum\": 453.0, \"count\": 1, \"min\": 453, \"max\": 453}, \"Reset Count\": {\"sum\": 18.0, \"count\": 1, \"min\": 18, \"max\": 18}, \"Number of Records Since Last Reset\": {\"sum\": 90570.0, \"count\": 1, \"min\": 90570, \"max\": 90570}, \"Number of Batches Since Last Reset\": {\"sum\": 453.0, \"count\": 1, \"min\": 453, \"max\": 453}}}\u001b[0m\n",
      "\u001b[34m[12/22/2021 19:05:14 INFO 139703438038848] #throughput_metric: host=algo-1, train throughput=68126.99741697901 records/second\u001b[0m\n",
      "\u001b[34m[12/22/2021 19:05:14 INFO 139703438038848] #quality_metric: host=algo-1, epoch=17, batch=0 train binary_classification_accuracy <score>=0.745\u001b[0m\n",
      "\u001b[34m[12/22/2021 19:05:14 INFO 139703438038848] #quality_metric: host=algo-1, epoch=17, batch=0 train binary_classification_cross_entropy <loss>=0.5747373962402343\u001b[0m\n",
      "\u001b[34m[12/22/2021 19:05:14 INFO 139703438038848] #quality_metric: host=algo-1, epoch=17, batch=0 train binary_f_1.000 <score>=0.8172043010752689\u001b[0m\n",
      "\u001b[34m[2021-12-22 19:05:15.870] [tensorio] [info] epoch_stats={\"data_pipeline\": \"/opt/ml/input/data/train\", \"epoch\": 36, \"duration\": 1290, \"num_examples\": 453, \"num_bytes\": 5796480}\u001b[0m\n",
      "\u001b[34m[12/22/2021 19:05:15 INFO 139703438038848] #quality_metric: host=algo-1, epoch=17, train binary_classification_accuracy <score>=0.6986092715231788\u001b[0m\n",
      "\u001b[34m[12/22/2021 19:05:15 INFO 139703438038848] #quality_metric: host=algo-1, epoch=17, train binary_classification_cross_entropy <loss>=0.6057167327746124\u001b[0m\n",
      "\u001b[34m[12/22/2021 19:05:15 INFO 139703438038848] #quality_metric: host=algo-1, epoch=17, train binary_f_1.000 <score>=0.7503200321860941\u001b[0m\n",
      "\u001b[34m#metrics {\"StartTime\": 1640199914.5777466, \"EndTime\": 1640199915.8707707, \"Dimensions\": {\"Algorithm\": \"factorization-machines\", \"Host\": \"algo-1\", \"Operation\": \"training\"}, \"Metrics\": {\"update.time\": {\"sum\": 1292.3002243041992, \"count\": 1, \"min\": 1292.3002243041992, \"max\": 1292.3002243041992}}}\u001b[0m\n",
      "\u001b[34m[12/22/2021 19:05:15 INFO 139703438038848] #progress_metric: host=algo-1, completed 60.0 % of epochs\u001b[0m\n",
      "\u001b[34m#metrics {\"StartTime\": 1640199914.578438, \"EndTime\": 1640199915.8710413, \"Dimensions\": {\"Algorithm\": \"factorization-machines\", \"Host\": \"algo-1\", \"Operation\": \"training\", \"epoch\": 17, \"Meta\": \"training_data_iter\"}, \"Metrics\": {\"Total Records Seen\": {\"sum\": 1630460.0, \"count\": 1, \"min\": 1630460, \"max\": 1630460}, \"Total Batches Seen\": {\"sum\": 8155.0, \"count\": 1, \"min\": 8155, \"max\": 8155}, \"Max Records Seen Between Resets\": {\"sum\": 90570.0, \"count\": 1, \"min\": 90570, \"max\": 90570}, \"Max Batches Seen Between Resets\": {\"sum\": 453.0, \"count\": 1, \"min\": 453, \"max\": 453}, \"Reset Count\": {\"sum\": 19.0, \"count\": 1, \"min\": 19, \"max\": 19}, \"Number of Records Since Last Reset\": {\"sum\": 90570.0, \"count\": 1, \"min\": 90570, \"max\": 90570}, \"Number of Batches Since Last Reset\": {\"sum\": 453.0, \"count\": 1, \"min\": 453, \"max\": 453}}}\u001b[0m\n",
      "\u001b[34m[12/22/2021 19:05:15 INFO 139703438038848] #throughput_metric: host=algo-1, train throughput=70060.49881375338 records/second\u001b[0m\n",
      "\u001b[34m[12/22/2021 19:05:15 INFO 139703438038848] #quality_metric: host=algo-1, epoch=18, batch=0 train binary_classification_accuracy <score>=0.745\u001b[0m\n",
      "\u001b[34m[12/22/2021 19:05:15 INFO 139703438038848] #quality_metric: host=algo-1, epoch=18, batch=0 train binary_classification_cross_entropy <loss>=0.5728804397583008\u001b[0m\n",
      "\u001b[34m[12/22/2021 19:05:15 INFO 139703438038848] #quality_metric: host=algo-1, epoch=18, batch=0 train binary_f_1.000 <score>=0.8172043010752689\u001b[0m\n",
      "\u001b[34m[2021-12-22 19:05:17.143] [tensorio] [info] epoch_stats={\"data_pipeline\": \"/opt/ml/input/data/train\", \"epoch\": 38, \"duration\": 1269, \"num_examples\": 453, \"num_bytes\": 5796480}\u001b[0m\n",
      "\u001b[34m[12/22/2021 19:05:17 INFO 139703438038848] #quality_metric: host=algo-1, epoch=18, train binary_classification_accuracy <score>=0.7012472406181015\u001b[0m\n",
      "\u001b[34m[12/22/2021 19:05:17 INFO 139703438038848] #quality_metric: host=algo-1, epoch=18, train binary_classification_cross_entropy <loss>=0.6034858648034911\u001b[0m\n",
      "\u001b[34m[12/22/2021 19:05:17 INFO 139703438038848] #quality_metric: host=algo-1, epoch=18, train binary_f_1.000 <score>=0.7520587723396265\u001b[0m\n",
      "\u001b[34m#metrics {\"StartTime\": 1640199915.8708565, \"EndTime\": 1640199917.1436577, \"Dimensions\": {\"Algorithm\": \"factorization-machines\", \"Host\": \"algo-1\", \"Operation\": \"training\"}, \"Metrics\": {\"update.time\": {\"sum\": 1272.2878456115723, \"count\": 1, \"min\": 1272.2878456115723, \"max\": 1272.2878456115723}}}\u001b[0m\n",
      "\u001b[34m[12/22/2021 19:05:17 INFO 139703438038848] #progress_metric: host=algo-1, completed 63.333333333333336 % of epochs\u001b[0m\n",
      "\u001b[34m#metrics {\"StartTime\": 1640199915.8713424, \"EndTime\": 1640199917.1438737, \"Dimensions\": {\"Algorithm\": \"factorization-machines\", \"Host\": \"algo-1\", \"Operation\": \"training\", \"epoch\": 18, \"Meta\": \"training_data_iter\"}, \"Metrics\": {\"Total Records Seen\": {\"sum\": 1721030.0, \"count\": 1, \"min\": 1721030, \"max\": 1721030}, \"Total Batches Seen\": {\"sum\": 8608.0, \"count\": 1, \"min\": 8608, \"max\": 8608}, \"Max Records Seen Between Resets\": {\"sum\": 90570.0, \"count\": 1, \"min\": 90570, \"max\": 90570}, \"Max Batches Seen Between Resets\": {\"sum\": 453.0, \"count\": 1, \"min\": 453, \"max\": 453}, \"Reset Count\": {\"sum\": 20.0, \"count\": 1, \"min\": 20, \"max\": 20}, \"Number of Records Since Last Reset\": {\"sum\": 90570.0, \"count\": 1, \"min\": 90570, \"max\": 90570}, \"Number of Batches Since Last Reset\": {\"sum\": 453.0, \"count\": 1, \"min\": 453, \"max\": 453}}}\u001b[0m\n",
      "\u001b[34m[12/22/2021 19:05:17 INFO 139703438038848] #throughput_metric: host=algo-1, train throughput=71166.34349527622 records/second\u001b[0m\n",
      "\u001b[34m[12/22/2021 19:05:17 INFO 139703438038848] #quality_metric: host=algo-1, epoch=19, batch=0 train binary_classification_accuracy <score>=0.745\u001b[0m\n",
      "\u001b[34m[12/22/2021 19:05:17 INFO 139703438038848] #quality_metric: host=algo-1, epoch=19, batch=0 train binary_classification_cross_entropy <loss>=0.5710917663574219\u001b[0m\n",
      "\u001b[34m[12/22/2021 19:05:17 INFO 139703438038848] #quality_metric: host=algo-1, epoch=19, batch=0 train binary_f_1.000 <score>=0.8172043010752689\u001b[0m\n",
      "\u001b[34m[2021-12-22 19:05:18.413] [tensorio] [info] epoch_stats={\"data_pipeline\": \"/opt/ml/input/data/train\", \"epoch\": 40, \"duration\": 1266, \"num_examples\": 453, \"num_bytes\": 5796480}\u001b[0m\n",
      "\u001b[34m[12/22/2021 19:05:18 INFO 139703438038848] #quality_metric: host=algo-1, epoch=19, train binary_classification_accuracy <score>=0.7032671081677704\u001b[0m\n",
      "\u001b[34m[12/22/2021 19:05:18 INFO 139703438038848] #quality_metric: host=algo-1, epoch=19, train binary_classification_cross_entropy <loss>=0.6013265069115241\u001b[0m\n",
      "\u001b[34m[12/22/2021 19:05:18 INFO 139703438038848] #quality_metric: host=algo-1, epoch=19, train binary_f_1.000 <score>=0.7533351683640701\u001b[0m\n",
      "\u001b[34m#metrics {\"StartTime\": 1640199917.143721, \"EndTime\": 1640199918.4138086, \"Dimensions\": {\"Algorithm\": \"factorization-machines\", \"Host\": \"algo-1\", \"Operation\": \"training\"}, \"Metrics\": {\"update.time\": {\"sum\": 1269.340991973877, \"count\": 1, \"min\": 1269.340991973877, \"max\": 1269.340991973877}}}\u001b[0m\n",
      "\u001b[34m[12/22/2021 19:05:18 INFO 139703438038848] #progress_metric: host=algo-1, completed 66.66666666666667 % of epochs\u001b[0m\n",
      "\u001b[34m#metrics {\"StartTime\": 1640199917.1444361, \"EndTime\": 1640199918.4140797, \"Dimensions\": {\"Algorithm\": \"factorization-machines\", \"Host\": \"algo-1\", \"Operation\": \"training\", \"epoch\": 19, \"Meta\": \"training_data_iter\"}, \"Metrics\": {\"Total Records Seen\": {\"sum\": 1811600.0, \"count\": 1, \"min\": 1811600, \"max\": 1811600}, \"Total Batches Seen\": {\"sum\": 9061.0, \"count\": 1, \"min\": 9061, \"max\": 9061}, \"Max Records Seen Between Resets\": {\"sum\": 90570.0, \"count\": 1, \"min\": 90570, \"max\": 90570}, \"Max Batches Seen Between Resets\": {\"sum\": 453.0, \"count\": 1, \"min\": 453, \"max\": 453}, \"Reset Count\": {\"sum\": 21.0, \"count\": 1, \"min\": 21, \"max\": 21}, \"Number of Records Since Last Reset\": {\"sum\": 90570.0, \"count\": 1, \"min\": 90570, \"max\": 90570}, \"Number of Batches Since Last Reset\": {\"sum\": 453.0, \"count\": 1, \"min\": 453, \"max\": 453}}}\u001b[0m\n",
      "\u001b[34m[12/22/2021 19:05:18 INFO 139703438038848] #throughput_metric: host=algo-1, train throughput=71327.30761171375 records/second\u001b[0m\n",
      "\u001b[34m[12/22/2021 19:05:18 INFO 139703438038848] #quality_metric: host=algo-1, epoch=20, batch=0 train binary_classification_accuracy <score>=0.75\u001b[0m\n",
      "\u001b[34m[12/22/2021 19:05:18 INFO 139703438038848] #quality_metric: host=algo-1, epoch=20, batch=0 train binary_classification_cross_entropy <loss>=0.5693638610839844\u001b[0m\n",
      "\u001b[34m[12/22/2021 19:05:18 INFO 139703438038848] #quality_metric: host=algo-1, epoch=20, batch=0 train binary_f_1.000 <score>=0.8201438848920863\u001b[0m\n",
      "\u001b[34m[2021-12-22 19:05:19.727] [tensorio] [info] epoch_stats={\"data_pipeline\": \"/opt/ml/input/data/train\", \"epoch\": 42, \"duration\": 1310, \"num_examples\": 453, \"num_bytes\": 5796480}\u001b[0m\n",
      "\u001b[34m[12/22/2021 19:05:19 INFO 139703438038848] #quality_metric: host=algo-1, epoch=20, train binary_classification_accuracy <score>=0.7052869757174393\u001b[0m\n",
      "\u001b[34m[12/22/2021 19:05:19 INFO 139703438038848] #quality_metric: host=algo-1, epoch=20, train binary_classification_cross_entropy <loss>=0.5992331991132521\u001b[0m\n",
      "\u001b[34m[12/22/2021 19:05:19 INFO 139703438038848] #quality_metric: host=algo-1, epoch=20, train binary_f_1.000 <score>=0.7546427750976338\u001b[0m\n",
      "\u001b[34m#metrics {\"StartTime\": 1640199918.4138913, \"EndTime\": 1640199919.7275815, \"Dimensions\": {\"Algorithm\": \"factorization-machines\", \"Host\": \"algo-1\", \"Operation\": \"training\"}, \"Metrics\": {\"update.time\": {\"sum\": 1312.894582748413, \"count\": 1, \"min\": 1312.894582748413, \"max\": 1312.894582748413}}}\u001b[0m\n",
      "\u001b[34m[12/22/2021 19:05:19 INFO 139703438038848] #progress_metric: host=algo-1, completed 70.0 % of epochs\u001b[0m\n",
      "\u001b[34m#metrics {\"StartTime\": 1640199918.414662, \"EndTime\": 1640199919.7277775, \"Dimensions\": {\"Algorithm\": \"factorization-machines\", \"Host\": \"algo-1\", \"Operation\": \"training\", \"epoch\": 20, \"Meta\": \"training_data_iter\"}, \"Metrics\": {\"Total Records Seen\": {\"sum\": 1902170.0, \"count\": 1, \"min\": 1902170, \"max\": 1902170}, \"Total Batches Seen\": {\"sum\": 9514.0, \"count\": 1, \"min\": 9514, \"max\": 9514}, \"Max Records Seen Between Resets\": {\"sum\": 90570.0, \"count\": 1, \"min\": 90570, \"max\": 90570}, \"Max Batches Seen Between Resets\": {\"sum\": 453.0, \"count\": 1, \"min\": 453, \"max\": 453}, \"Reset Count\": {\"sum\": 22.0, \"count\": 1, \"min\": 22, \"max\": 22}, \"Number of Records Since Last Reset\": {\"sum\": 90570.0, \"count\": 1, \"min\": 90570, \"max\": 90570}, \"Number of Batches Since Last Reset\": {\"sum\": 453.0, \"count\": 1, \"min\": 453, \"max\": 453}}}\u001b[0m\n",
      "\u001b[34m[12/22/2021 19:05:19 INFO 139703438038848] #throughput_metric: host=algo-1, train throughput=68967.9167747662 records/second\u001b[0m\n",
      "\u001b[34m[12/22/2021 19:05:19 INFO 139703438038848] #quality_metric: host=algo-1, epoch=21, batch=0 train binary_classification_accuracy <score>=0.755\u001b[0m\n",
      "\u001b[34m[12/22/2021 19:05:19 INFO 139703438038848] #quality_metric: host=algo-1, epoch=21, batch=0 train binary_classification_cross_entropy <loss>=0.5676905822753906\u001b[0m\n",
      "\u001b[34m[12/22/2021 19:05:19 INFO 139703438038848] #quality_metric: host=algo-1, epoch=21, batch=0 train binary_f_1.000 <score>=0.8231046931407943\u001b[0m\n",
      "\u001b[34m[2021-12-22 19:05:21.018] [tensorio] [info] epoch_stats={\"data_pipeline\": \"/opt/ml/input/data/train\", \"epoch\": 44, \"duration\": 1288, \"num_examples\": 453, \"num_bytes\": 5796480}\u001b[0m\n",
      "\u001b[34m[12/22/2021 19:05:21 INFO 139703438038848] #quality_metric: host=algo-1, epoch=21, train binary_classification_accuracy <score>=0.7074172185430464\u001b[0m\n",
      "\u001b[34m[12/22/2021 19:05:21 INFO 139703438038848] #quality_metric: host=algo-1, epoch=21, train binary_classification_cross_entropy <loss>=0.597201360235151\u001b[0m\n",
      "\u001b[34m[12/22/2021 19:05:21 INFO 139703438038848] #quality_metric: host=algo-1, epoch=21, train binary_f_1.000 <score>=0.756005964544099\u001b[0m\n",
      "\u001b[34m#metrics {\"StartTime\": 1640199919.7276456, \"EndTime\": 1640199921.0193474, \"Dimensions\": {\"Algorithm\": \"factorization-machines\", \"Host\": \"algo-1\", \"Operation\": \"training\"}, \"Metrics\": {\"update.time\": {\"sum\": 1290.9753322601318, \"count\": 1, \"min\": 1290.9753322601318, \"max\": 1290.9753322601318}}}\u001b[0m\n",
      "\u001b[34m[12/22/2021 19:05:21 INFO 139703438038848] #progress_metric: host=algo-1, completed 73.33333333333333 % of epochs\u001b[0m\n",
      "\u001b[34m#metrics {\"StartTime\": 1640199919.7283435, \"EndTime\": 1640199921.019659, \"Dimensions\": {\"Algorithm\": \"factorization-machines\", \"Host\": \"algo-1\", \"Operation\": \"training\", \"epoch\": 21, \"Meta\": \"training_data_iter\"}, \"Metrics\": {\"Total Records Seen\": {\"sum\": 1992740.0, \"count\": 1, \"min\": 1992740, \"max\": 1992740}, \"Total Batches Seen\": {\"sum\": 9967.0, \"count\": 1, \"min\": 9967, \"max\": 9967}, \"Max Records Seen Between Resets\": {\"sum\": 90570.0, \"count\": 1, \"min\": 90570, \"max\": 90570}, \"Max Batches Seen Between Resets\": {\"sum\": 453.0, \"count\": 1, \"min\": 453, \"max\": 453}, \"Reset Count\": {\"sum\": 23.0, \"count\": 1, \"min\": 23, \"max\": 23}, \"Number of Records Since Last Reset\": {\"sum\": 90570.0, \"count\": 1, \"min\": 90570, \"max\": 90570}, \"Number of Batches Since Last Reset\": {\"sum\": 453.0, \"count\": 1, \"min\": 453, \"max\": 453}}}\u001b[0m\n",
      "\u001b[34m[12/22/2021 19:05:21 INFO 139703438038848] #throughput_metric: host=algo-1, train throughput=70130.86062668369 records/second\u001b[0m\n",
      "\u001b[34m[12/22/2021 19:05:21 INFO 139703438038848] #quality_metric: host=algo-1, epoch=22, batch=0 train binary_classification_accuracy <score>=0.755\u001b[0m\n",
      "\u001b[34m[12/22/2021 19:05:21 INFO 139703438038848] #quality_metric: host=algo-1, epoch=22, batch=0 train binary_classification_cross_entropy <loss>=0.5660668182373046\u001b[0m\n",
      "\u001b[34m[12/22/2021 19:05:21 INFO 139703438038848] #quality_metric: host=algo-1, epoch=22, batch=0 train binary_f_1.000 <score>=0.8231046931407943\u001b[0m\n",
      "\u001b[34m[2021-12-22 19:05:22.273] [tensorio] [info] epoch_stats={\"data_pipeline\": \"/opt/ml/input/data/train\", \"epoch\": 46, \"duration\": 1251, \"num_examples\": 453, \"num_bytes\": 5796480}\u001b[0m\n",
      "\u001b[34m[12/22/2021 19:05:22 INFO 139703438038848] #quality_metric: host=algo-1, epoch=22, train binary_classification_accuracy <score>=0.709150110375276\u001b[0m\n",
      "\u001b[34m[12/22/2021 19:05:22 INFO 139703438038848] #quality_metric: host=algo-1, epoch=22, train binary_classification_cross_entropy <loss>=0.5952270879177068\u001b[0m\n",
      "\u001b[34m[12/22/2021 19:05:22 INFO 139703438038848] #quality_metric: host=algo-1, epoch=22, train binary_f_1.000 <score>=0.7571403555662055\u001b[0m\n",
      "\u001b[34m#metrics {\"StartTime\": 1640199921.0194323, \"EndTime\": 1640199922.274491, \"Dimensions\": {\"Algorithm\": \"factorization-machines\", \"Host\": \"algo-1\", \"Operation\": \"training\"}, \"Metrics\": {\"update.time\": {\"sum\": 1254.2269229888916, \"count\": 1, \"min\": 1254.2269229888916, \"max\": 1254.2269229888916}}}\u001b[0m\n",
      "\u001b[34m[12/22/2021 19:05:22 INFO 139703438038848] #progress_metric: host=algo-1, completed 76.66666666666667 % of epochs\u001b[0m\n",
      "\u001b[34m#metrics {\"StartTime\": 1640199921.0202394, \"EndTime\": 1640199922.2747674, \"Dimensions\": {\"Algorithm\": \"factorization-machines\", \"Host\": \"algo-1\", \"Operation\": \"training\", \"epoch\": 22, \"Meta\": \"training_data_iter\"}, \"Metrics\": {\"Total Records Seen\": {\"sum\": 2083310.0, \"count\": 1, \"min\": 2083310, \"max\": 2083310}, \"Total Batches Seen\": {\"sum\": 10420.0, \"count\": 1, \"min\": 10420, \"max\": 10420}, \"Max Records Seen Between Resets\": {\"sum\": 90570.0, \"count\": 1, \"min\": 90570, \"max\": 90570}, \"Max Batches Seen Between Resets\": {\"sum\": 453.0, \"count\": 1, \"min\": 453, \"max\": 453}, \"Reset Count\": {\"sum\": 24.0, \"count\": 1, \"min\": 24, \"max\": 24}, \"Number of Records Since Last Reset\": {\"sum\": 90570.0, \"count\": 1, \"min\": 90570, \"max\": 90570}, \"Number of Batches Since Last Reset\": {\"sum\": 453.0, \"count\": 1, \"min\": 453, \"max\": 453}}}\u001b[0m\n",
      "\u001b[34m[12/22/2021 19:05:22 INFO 139703438038848] #throughput_metric: host=algo-1, train throughput=72186.57804884722 records/second\u001b[0m\n",
      "\u001b[34m[12/22/2021 19:05:22 INFO 139703438038848] #quality_metric: host=algo-1, epoch=23, batch=0 train binary_classification_accuracy <score>=0.755\u001b[0m\n",
      "\u001b[34m[12/22/2021 19:05:22 INFO 139703438038848] #quality_metric: host=algo-1, epoch=23, batch=0 train binary_classification_cross_entropy <loss>=0.564488525390625\u001b[0m\n",
      "\u001b[34m[12/22/2021 19:05:22 INFO 139703438038848] #quality_metric: host=algo-1, epoch=23, batch=0 train binary_f_1.000 <score>=0.8231046931407943\u001b[0m\n",
      "\u001b[34m[2021-12-22 19:05:23.549] [tensorio] [info] epoch_stats={\"data_pipeline\": \"/opt/ml/input/data/train\", \"epoch\": 48, \"duration\": 1272, \"num_examples\": 453, \"num_bytes\": 5796480}\u001b[0m\n",
      "\u001b[34m[12/22/2021 19:05:23 INFO 139703438038848] #quality_metric: host=algo-1, epoch=23, train binary_classification_accuracy <score>=0.7111479028697572\u001b[0m\n",
      "\u001b[34m[12/22/2021 19:05:23 INFO 139703438038848] #quality_metric: host=algo-1, epoch=23, train binary_classification_cross_entropy <loss>=0.5933070428271431\u001b[0m\n",
      "\u001b[34m[12/22/2021 19:05:23 INFO 139703438038848] #quality_metric: host=algo-1, epoch=23, train binary_f_1.000 <score>=0.7584991325532464\u001b[0m\n",
      "\u001b[34m#metrics {\"StartTime\": 1640199922.2745798, \"EndTime\": 1640199923.5500805, \"Dimensions\": {\"Algorithm\": \"factorization-machines\", \"Host\": \"algo-1\", \"Operation\": \"training\"}, \"Metrics\": {\"update.time\": {\"sum\": 1274.71923828125, \"count\": 1, \"min\": 1274.71923828125, \"max\": 1274.71923828125}}}\u001b[0m\n",
      "\u001b[34m[12/22/2021 19:05:23 INFO 139703438038848] #progress_metric: host=algo-1, completed 80.0 % of epochs\u001b[0m\n",
      "\u001b[34m#metrics {\"StartTime\": 1640199922.2753386, \"EndTime\": 1640199923.5502913, \"Dimensions\": {\"Algorithm\": \"factorization-machines\", \"Host\": \"algo-1\", \"Operation\": \"training\", \"epoch\": 23, \"Meta\": \"training_data_iter\"}, \"Metrics\": {\"Total Records Seen\": {\"sum\": 2173880.0, \"count\": 1, \"min\": 2173880, \"max\": 2173880}, \"Total Batches Seen\": {\"sum\": 10873.0, \"count\": 1, \"min\": 10873, \"max\": 10873}, \"Max Records Seen Between Resets\": {\"sum\": 90570.0, \"count\": 1, \"min\": 90570, \"max\": 90570}, \"Max Batches Seen Between Resets\": {\"sum\": 453.0, \"count\": 1, \"min\": 453, \"max\": 453}, \"Reset Count\": {\"sum\": 25.0, \"count\": 1, \"min\": 25, \"max\": 25}, \"Number of Records Since Last Reset\": {\"sum\": 90570.0, \"count\": 1, \"min\": 90570, \"max\": 90570}, \"Number of Batches Since Last Reset\": {\"sum\": 453.0, \"count\": 1, \"min\": 453, \"max\": 453}}}\u001b[0m\n",
      "\u001b[34m[12/22/2021 19:05:23 INFO 139703438038848] #throughput_metric: host=algo-1, train throughput=71031.86189368878 records/second\u001b[0m\n",
      "\u001b[34m[12/22/2021 19:05:23 INFO 139703438038848] #quality_metric: host=algo-1, epoch=24, batch=0 train binary_classification_accuracy <score>=0.76\u001b[0m\n",
      "\u001b[34m[12/22/2021 19:05:23 INFO 139703438038848] #quality_metric: host=algo-1, epoch=24, batch=0 train binary_classification_cross_entropy <loss>=0.5629522323608398\u001b[0m\n",
      "\u001b[34m[12/22/2021 19:05:23 INFO 139703438038848] #quality_metric: host=algo-1, epoch=24, batch=0 train binary_f_1.000 <score>=0.8260869565217391\u001b[0m\n",
      "\u001b[34m[2021-12-22 19:05:24.879] [tensorio] [info] epoch_stats={\"data_pipeline\": \"/opt/ml/input/data/train\", \"epoch\": 50, \"duration\": 1326, \"num_examples\": 453, \"num_bytes\": 5796480}\u001b[0m\n",
      "\u001b[34m[12/22/2021 19:05:24 INFO 139703438038848] #quality_metric: host=algo-1, epoch=24, train binary_classification_accuracy <score>=0.7127041942604857\u001b[0m\n",
      "\u001b[34m[12/22/2021 19:05:24 INFO 139703438038848] #quality_metric: host=algo-1, epoch=24, train binary_classification_cross_entropy <loss>=0.5914383108884294\u001b[0m\n",
      "\u001b[34m[12/22/2021 19:05:24 INFO 139703438038848] #quality_metric: host=algo-1, epoch=24, train binary_f_1.000 <score>=0.7595717756163346\u001b[0m\n",
      "\u001b[34m#metrics {\"StartTime\": 1640199923.5501447, \"EndTime\": 1640199924.8800058, \"Dimensions\": {\"Algorithm\": \"factorization-machines\", \"Host\": \"algo-1\", \"Operation\": \"training\"}, \"Metrics\": {\"update.time\": {\"sum\": 1329.071283340454, \"count\": 1, \"min\": 1329.071283340454, \"max\": 1329.071283340454}}}\u001b[0m\n",
      "\u001b[34m[12/22/2021 19:05:24 INFO 139703438038848] #progress_metric: host=algo-1, completed 83.33333333333333 % of epochs\u001b[0m\n",
      "\u001b[34m#metrics {\"StartTime\": 1640199923.5509071, \"EndTime\": 1640199924.8802173, \"Dimensions\": {\"Algorithm\": \"factorization-machines\", \"Host\": \"algo-1\", \"Operation\": \"training\", \"epoch\": 24, \"Meta\": \"training_data_iter\"}, \"Metrics\": {\"Total Records Seen\": {\"sum\": 2264450.0, \"count\": 1, \"min\": 2264450, \"max\": 2264450}, \"Total Batches Seen\": {\"sum\": 11326.0, \"count\": 1, \"min\": 11326, \"max\": 11326}, \"Max Records Seen Between Resets\": {\"sum\": 90570.0, \"count\": 1, \"min\": 90570, \"max\": 90570}, \"Max Batches Seen Between Resets\": {\"sum\": 453.0, \"count\": 1, \"min\": 453, \"max\": 453}, \"Reset Count\": {\"sum\": 26.0, \"count\": 1, \"min\": 26, \"max\": 26}, \"Number of Records Since Last Reset\": {\"sum\": 90570.0, \"count\": 1, \"min\": 90570, \"max\": 90570}, \"Number of Batches Since Last Reset\": {\"sum\": 453.0, \"count\": 1, \"min\": 453, \"max\": 453}}}\u001b[0m\n",
      "\u001b[34m[12/22/2021 19:05:24 INFO 139703438038848] #throughput_metric: host=algo-1, train throughput=68127.82823983167 records/second\u001b[0m\n",
      "\u001b[34m[12/22/2021 19:05:24 INFO 139703438038848] #quality_metric: host=algo-1, epoch=25, batch=0 train binary_classification_accuracy <score>=0.76\u001b[0m\n",
      "\u001b[34m[12/22/2021 19:05:24 INFO 139703438038848] #quality_metric: host=algo-1, epoch=25, batch=0 train binary_classification_cross_entropy <loss>=0.561454963684082\u001b[0m\n",
      "\u001b[34m[12/22/2021 19:05:24 INFO 139703438038848] #quality_metric: host=algo-1, epoch=25, batch=0 train binary_f_1.000 <score>=0.8260869565217391\u001b[0m\n",
      "\u001b[34m[2021-12-22 19:05:26.156] [tensorio] [info] epoch_stats={\"data_pipeline\": \"/opt/ml/input/data/train\", \"epoch\": 52, \"duration\": 1274, \"num_examples\": 453, \"num_bytes\": 5796480}\u001b[0m\n",
      "\u001b[34m[12/22/2021 19:05:26 INFO 139703438038848] #quality_metric: host=algo-1, epoch=25, train binary_classification_accuracy <score>=0.7142494481236203\u001b[0m\n",
      "\u001b[34m[12/22/2021 19:05:26 INFO 139703438038848] #quality_metric: host=algo-1, epoch=25, train binary_classification_cross_entropy <loss>=0.5896183184861611\u001b[0m\n",
      "\u001b[34m[12/22/2021 19:05:26 INFO 139703438038848] #quality_metric: host=algo-1, epoch=25, train binary_f_1.000 <score>=0.7606040150541413\u001b[0m\n",
      "\u001b[34m#metrics {\"StartTime\": 1640199924.880077, \"EndTime\": 1640199926.15722, \"Dimensions\": {\"Algorithm\": \"factorization-machines\", \"Host\": \"algo-1\", \"Operation\": \"training\"}, \"Metrics\": {\"update.time\": {\"sum\": 1276.3943672180176, \"count\": 1, \"min\": 1276.3943672180176, \"max\": 1276.3943672180176}}}\u001b[0m\n",
      "\u001b[34m[12/22/2021 19:05:26 INFO 139703438038848] #progress_metric: host=algo-1, completed 86.66666666666667 % of epochs\u001b[0m\n",
      "\u001b[34m#metrics {\"StartTime\": 1640199924.8807948, \"EndTime\": 1640199926.157423, \"Dimensions\": {\"Algorithm\": \"factorization-machines\", \"Host\": \"algo-1\", \"Operation\": \"training\", \"epoch\": 25, \"Meta\": \"training_data_iter\"}, \"Metrics\": {\"Total Records Seen\": {\"sum\": 2355020.0, \"count\": 1, \"min\": 2355020, \"max\": 2355020}, \"Total Batches Seen\": {\"sum\": 11779.0, \"count\": 1, \"min\": 11779, \"max\": 11779}, \"Max Records Seen Between Resets\": {\"sum\": 90570.0, \"count\": 1, \"min\": 90570, \"max\": 90570}, \"Max Batches Seen Between Resets\": {\"sum\": 453.0, \"count\": 1, \"min\": 453, \"max\": 453}, \"Reset Count\": {\"sum\": 27.0, \"count\": 1, \"min\": 27, \"max\": 27}, \"Number of Records Since Last Reset\": {\"sum\": 90570.0, \"count\": 1, \"min\": 90570, \"max\": 90570}, \"Number of Batches Since Last Reset\": {\"sum\": 453.0, \"count\": 1, \"min\": 453, \"max\": 453}}}\u001b[0m\n",
      "\u001b[34m[12/22/2021 19:05:26 INFO 139703438038848] #throughput_metric: host=algo-1, train throughput=70938.51957214829 records/second\u001b[0m\n",
      "\u001b[34m[12/22/2021 19:05:26 INFO 139703438038848] #quality_metric: host=algo-1, epoch=26, batch=0 train binary_classification_accuracy <score>=0.76\u001b[0m\n",
      "\u001b[34m[12/22/2021 19:05:26 INFO 139703438038848] #quality_metric: host=algo-1, epoch=26, batch=0 train binary_classification_cross_entropy <loss>=0.5599942779541016\u001b[0m\n",
      "\u001b[34m[12/22/2021 19:05:26 INFO 139703438038848] #quality_metric: host=algo-1, epoch=26, batch=0 train binary_f_1.000 <score>=0.8260869565217391\u001b[0m\n",
      "\u001b[34m[2021-12-22 19:05:27.411] [tensorio] [info] epoch_stats={\"data_pipeline\": \"/opt/ml/input/data/train\", \"epoch\": 54, \"duration\": 1251, \"num_examples\": 453, \"num_bytes\": 5796480}\u001b[0m\n",
      "\u001b[34m[12/22/2021 19:05:27 INFO 139703438038848] #quality_metric: host=algo-1, epoch=26, train binary_classification_accuracy <score>=0.7159050772626931\u001b[0m\n",
      "\u001b[34m[12/22/2021 19:05:27 INFO 139703438038848] #quality_metric: host=algo-1, epoch=26, train binary_classification_cross_entropy <loss>=0.5878447936439093\u001b[0m\n",
      "\u001b[34m[12/22/2021 19:05:27 INFO 139703438038848] #quality_metric: host=algo-1, epoch=26, train binary_f_1.000 <score>=0.7617222577091491\u001b[0m\n",
      "\u001b[34m#metrics {\"StartTime\": 1640199926.1572855, \"EndTime\": 1640199927.4119737, \"Dimensions\": {\"Algorithm\": \"factorization-machines\", \"Host\": \"algo-1\", \"Operation\": \"training\"}, \"Metrics\": {\"update.time\": {\"sum\": 1253.9608478546143, \"count\": 1, \"min\": 1253.9608478546143, \"max\": 1253.9608478546143}}}\u001b[0m\n",
      "\u001b[34m[12/22/2021 19:05:27 INFO 139703438038848] #progress_metric: host=algo-1, completed 90.0 % of epochs\u001b[0m\n",
      "\u001b[34m#metrics {\"StartTime\": 1640199926.1579823, \"EndTime\": 1640199927.4122357, \"Dimensions\": {\"Algorithm\": \"factorization-machines\", \"Host\": \"algo-1\", \"Operation\": \"training\", \"epoch\": 26, \"Meta\": \"training_data_iter\"}, \"Metrics\": {\"Total Records Seen\": {\"sum\": 2445590.0, \"count\": 1, \"min\": 2445590, \"max\": 2445590}, \"Total Batches Seen\": {\"sum\": 12232.0, \"count\": 1, \"min\": 12232, \"max\": 12232}, \"Max Records Seen Between Resets\": {\"sum\": 90570.0, \"count\": 1, \"min\": 90570, \"max\": 90570}, \"Max Batches Seen Between Resets\": {\"sum\": 453.0, \"count\": 1, \"min\": 453, \"max\": 453}, \"Reset Count\": {\"sum\": 28.0, \"count\": 1, \"min\": 28, \"max\": 28}, \"Number of Records Since Last Reset\": {\"sum\": 90570.0, \"count\": 1, \"min\": 90570, \"max\": 90570}, \"Number of Batches Since Last Reset\": {\"sum\": 453.0, \"count\": 1, \"min\": 453, \"max\": 453}}}\u001b[0m\n",
      "\u001b[34m[12/22/2021 19:05:27 INFO 139703438038848] #throughput_metric: host=algo-1, train throughput=72202.27405221215 records/second\u001b[0m\n",
      "\u001b[34m[12/22/2021 19:05:27 INFO 139703438038848] #quality_metric: host=algo-1, epoch=27, batch=0 train binary_classification_accuracy <score>=0.76\u001b[0m\n",
      "\u001b[34m[12/22/2021 19:05:27 INFO 139703438038848] #quality_metric: host=algo-1, epoch=27, batch=0 train binary_classification_cross_entropy <loss>=0.5585680389404297\u001b[0m\n",
      "\u001b[34m[12/22/2021 19:05:27 INFO 139703438038848] #quality_metric: host=algo-1, epoch=27, batch=0 train binary_f_1.000 <score>=0.8260869565217391\u001b[0m\n",
      "\u001b[34m[2021-12-22 19:05:28.683] [tensorio] [info] epoch_stats={\"data_pipeline\": \"/opt/ml/input/data/train\", \"epoch\": 56, \"duration\": 1269, \"num_examples\": 453, \"num_bytes\": 5796480}\u001b[0m\n",
      "\u001b[34m[12/22/2021 19:05:28 INFO 139703438038848] #quality_metric: host=algo-1, epoch=27, train binary_classification_accuracy <score>=0.7172516556291391\u001b[0m\n",
      "\u001b[34m[12/22/2021 19:05:28 INFO 139703438038848] #quality_metric: host=algo-1, epoch=27, train binary_classification_cross_entropy <loss>=0.5861156861092608\u001b[0m\n",
      "\u001b[34m[12/22/2021 19:05:28 INFO 139703438038848] #quality_metric: host=algo-1, epoch=27, train binary_f_1.000 <score>=0.762548316231473\u001b[0m\n",
      "\u001b[34m#metrics {\"StartTime\": 1640199927.4120567, \"EndTime\": 1640199928.6844606, \"Dimensions\": {\"Algorithm\": \"factorization-machines\", \"Host\": \"algo-1\", \"Operation\": \"training\"}, \"Metrics\": {\"update.time\": {\"sum\": 1271.6012001037598, \"count\": 1, \"min\": 1271.6012001037598, \"max\": 1271.6012001037598}}}\u001b[0m\n",
      "\u001b[34m[12/22/2021 19:05:28 INFO 139703438038848] #progress_metric: host=algo-1, completed 93.33333333333333 % of epochs\u001b[0m\n",
      "\u001b[34m#metrics {\"StartTime\": 1640199927.4128284, \"EndTime\": 1640199928.6848898, \"Dimensions\": {\"Algorithm\": \"factorization-machines\", \"Host\": \"algo-1\", \"Operation\": \"training\", \"epoch\": 27, \"Meta\": \"training_data_iter\"}, \"Metrics\": {\"Total Records Seen\": {\"sum\": 2536160.0, \"count\": 1, \"min\": 2536160, \"max\": 2536160}, \"Total Batches Seen\": {\"sum\": 12685.0, \"count\": 1, \"min\": 12685, \"max\": 12685}, \"Max Records Seen Between Resets\": {\"sum\": 90570.0, \"count\": 1, \"min\": 90570, \"max\": 90570}, \"Max Batches Seen Between Resets\": {\"sum\": 453.0, \"count\": 1, \"min\": 453, \"max\": 453}, \"Reset Count\": {\"sum\": 29.0, \"count\": 1, \"min\": 29, \"max\": 29}, \"Number of Records Since Last Reset\": {\"sum\": 90570.0, \"count\": 1, \"min\": 90570, \"max\": 90570}, \"Number of Batches Since Last Reset\": {\"sum\": 453.0, \"count\": 1, \"min\": 453, \"max\": 453}}}\u001b[0m\n",
      "\u001b[34m[12/22/2021 19:05:28 INFO 139703438038848] #throughput_metric: host=algo-1, train throughput=71191.77727515249 records/second\u001b[0m\n",
      "\u001b[34m[12/22/2021 19:05:28 INFO 139703438038848] #quality_metric: host=algo-1, epoch=28, batch=0 train binary_classification_accuracy <score>=0.76\u001b[0m\n",
      "\u001b[34m[12/22/2021 19:05:28 INFO 139703438038848] #quality_metric: host=algo-1, epoch=28, batch=0 train binary_classification_cross_entropy <loss>=0.5571744537353516\u001b[0m\n",
      "\u001b[34m[12/22/2021 19:05:28 INFO 139703438038848] #quality_metric: host=algo-1, epoch=28, batch=0 train binary_f_1.000 <score>=0.8260869565217391\u001b[0m\n",
      "\u001b[34m[2021-12-22 19:05:29.965] [tensorio] [info] epoch_stats={\"data_pipeline\": \"/opt/ml/input/data/train\", \"epoch\": 58, \"duration\": 1278, \"num_examples\": 453, \"num_bytes\": 5796480}\u001b[0m\n",
      "\u001b[34m[12/22/2021 19:05:29 INFO 139703438038848] #quality_metric: host=algo-1, epoch=28, train binary_classification_accuracy <score>=0.7187637969094923\u001b[0m\n",
      "\u001b[34m[12/22/2021 19:05:29 INFO 139703438038848] #quality_metric: host=algo-1, epoch=28, train binary_classification_cross_entropy <loss>=0.5844291282805386\u001b[0m\n",
      "\u001b[34m[12/22/2021 19:05:29 INFO 139703438038848] #quality_metric: host=algo-1, epoch=28, train binary_f_1.000 <score>=0.7635047336179692\u001b[0m\n",
      "\u001b[34m#metrics {\"StartTime\": 1640199928.684569, \"EndTime\": 1640199929.9665515, \"Dimensions\": {\"Algorithm\": \"factorization-machines\", \"Host\": \"algo-1\", \"Operation\": \"training\"}, \"Metrics\": {\"update.time\": {\"sum\": 1281.0797691345215, \"count\": 1, \"min\": 1281.0797691345215, \"max\": 1281.0797691345215}}}\u001b[0m\n",
      "\u001b[34m[12/22/2021 19:05:29 INFO 139703438038848] #progress_metric: host=algo-1, completed 96.66666666666667 % of epochs\u001b[0m\n",
      "\u001b[34m#metrics {\"StartTime\": 1640199928.6854422, \"EndTime\": 1640199929.9668293, \"Dimensions\": {\"Algorithm\": \"factorization-machines\", \"Host\": \"algo-1\", \"Operation\": \"training\", \"epoch\": 28, \"Meta\": \"training_data_iter\"}, \"Metrics\": {\"Total Records Seen\": {\"sum\": 2626730.0, \"count\": 1, \"min\": 2626730, \"max\": 2626730}, \"Total Batches Seen\": {\"sum\": 13138.0, \"count\": 1, \"min\": 13138, \"max\": 13138}, \"Max Records Seen Between Resets\": {\"sum\": 90570.0, \"count\": 1, \"min\": 90570, \"max\": 90570}, \"Max Batches Seen Between Resets\": {\"sum\": 453.0, \"count\": 1, \"min\": 453, \"max\": 453}, \"Reset Count\": {\"sum\": 30.0, \"count\": 1, \"min\": 30, \"max\": 30}, \"Number of Records Since Last Reset\": {\"sum\": 90570.0, \"count\": 1, \"min\": 90570, \"max\": 90570}, \"Number of Batches Since Last Reset\": {\"sum\": 453.0, \"count\": 1, \"min\": 453, \"max\": 453}}}\u001b[0m\n",
      "\u001b[34m[12/22/2021 19:05:29 INFO 139703438038848] #throughput_metric: host=algo-1, train throughput=70673.78814725403 records/second\u001b[0m\n",
      "\u001b[34m[12/22/2021 19:05:29 INFO 139703438038848] #quality_metric: host=algo-1, epoch=29, batch=0 train binary_classification_accuracy <score>=0.76\u001b[0m\n",
      "\u001b[34m[12/22/2021 19:05:29 INFO 139703438038848] #quality_metric: host=algo-1, epoch=29, batch=0 train binary_classification_cross_entropy <loss>=0.5558118438720703\u001b[0m\n",
      "\u001b[34m[12/22/2021 19:05:29 INFO 139703438038848] #quality_metric: host=algo-1, epoch=29, batch=0 train binary_f_1.000 <score>=0.8260869565217391\u001b[0m\n",
      "\u001b[34m[2021-12-22 19:05:31.266] [tensorio] [info] epoch_stats={\"data_pipeline\": \"/opt/ml/input/data/train\", \"epoch\": 60, \"duration\": 1296, \"num_examples\": 453, \"num_bytes\": 5796480}\u001b[0m\n",
      "\u001b[34m[12/22/2021 19:05:31 INFO 139703438038848] #quality_metric: host=algo-1, epoch=29, train binary_classification_accuracy <score>=0.7201876379690949\u001b[0m\n",
      "\u001b[34m[12/22/2021 19:05:31 INFO 139703438038848] #quality_metric: host=algo-1, epoch=29, train binary_classification_cross_entropy <loss>=0.5827834277963533\u001b[0m\n",
      "\u001b[34m[12/22/2021 19:05:31 INFO 139703438038848] #quality_metric: host=algo-1, epoch=29, train binary_f_1.000 <score>=0.7644418840189182\u001b[0m\n",
      "\u001b[34m[12/22/2021 19:05:31 INFO 139703438038848] #quality_metric: host=algo-1, train binary_classification_accuracy <score>=0.7201876379690949\u001b[0m\n",
      "\u001b[34m[12/22/2021 19:05:31 INFO 139703438038848] #quality_metric: host=algo-1, train binary_classification_cross_entropy <loss>=0.5827834277963533\u001b[0m\n",
      "\u001b[34m[12/22/2021 19:05:31 INFO 139703438038848] #quality_metric: host=algo-1, train binary_f_1.000 <score>=0.7644418840189182\u001b[0m\n",
      "\u001b[34m#metrics {\"StartTime\": 1640199929.966636, \"EndTime\": 1640199931.267071, \"Dimensions\": {\"Algorithm\": \"factorization-machines\", \"Host\": \"algo-1\", \"Operation\": \"training\"}, \"Metrics\": {\"update.time\": {\"sum\": 1299.90816116333, \"count\": 1, \"min\": 1299.90816116333, \"max\": 1299.90816116333}}}\u001b[0m\n",
      "\u001b[34m[12/22/2021 19:05:31 INFO 139703438038848] #progress_metric: host=algo-1, completed 100.0 % of epochs\u001b[0m\n",
      "\u001b[34m#metrics {\"StartTime\": 1640199929.967132, \"EndTime\": 1640199931.267311, \"Dimensions\": {\"Algorithm\": \"factorization-machines\", \"Host\": \"algo-1\", \"Operation\": \"training\", \"epoch\": 29, \"Meta\": \"training_data_iter\"}, \"Metrics\": {\"Total Records Seen\": {\"sum\": 2717300.0, \"count\": 1, \"min\": 2717300, \"max\": 2717300}, \"Total Batches Seen\": {\"sum\": 13591.0, \"count\": 1, \"min\": 13591, \"max\": 13591}, \"Max Records Seen Between Resets\": {\"sum\": 90570.0, \"count\": 1, \"min\": 90570, \"max\": 90570}, \"Max Batches Seen Between Resets\": {\"sum\": 453.0, \"count\": 1, \"min\": 453, \"max\": 453}, \"Reset Count\": {\"sum\": 31.0, \"count\": 1, \"min\": 31, \"max\": 31}, \"Number of Records Since Last Reset\": {\"sum\": 90570.0, \"count\": 1, \"min\": 90570, \"max\": 90570}, \"Number of Batches Since Last Reset\": {\"sum\": 453.0, \"count\": 1, \"min\": 453, \"max\": 453}}}\u001b[0m\n",
      "\u001b[34m[12/22/2021 19:05:31 INFO 139703438038848] #throughput_metric: host=algo-1, train throughput=69653.31649382517 records/second\u001b[0m\n",
      "\u001b[34m[12/22/2021 19:05:31 WARNING 139703438038848] wait_for_all_workers will not sync workers since the kv store is not running distributed\u001b[0m\n",
      "\u001b[34m[12/22/2021 19:05:31 INFO 139703438038848] Pulling entire model from kvstore to finalize\u001b[0m\n",
      "\u001b[34m#metrics {\"StartTime\": 1640199931.2671416, \"EndTime\": 1640199931.2702599, \"Dimensions\": {\"Algorithm\": \"factorization-machines\", \"Host\": \"algo-1\", \"Operation\": \"training\"}, \"Metrics\": {\"finalize.time\": {\"sum\": 2.6350021362304688, \"count\": 1, \"min\": 2.6350021362304688, \"max\": 2.6350021362304688}}}\u001b[0m\n",
      "\u001b[34m[12/22/2021 19:05:31 INFO 139703438038848] Saved checkpoint to \"/tmp/tmpggsah8bj/state-0001.params\"\u001b[0m\n",
      "\u001b[34m[2021-12-22 19:05:31.279] [tensorio] [info] epoch_stats={\"data_pipeline\": \"/opt/ml/input/data/test\", \"epoch\": 0, \"duration\": 40625, \"num_examples\": 1, \"num_bytes\": 12800}\u001b[0m\n",
      "\u001b[34m[2021-12-22 19:05:31.392] [tensorio] [info] epoch_stats={\"data_pipeline\": \"/opt/ml/input/data/test\", \"epoch\": 1, \"duration\": 113, \"num_examples\": 48, \"num_bytes\": 603392}\u001b[0m\n",
      "\u001b[34m#metrics {\"StartTime\": 1640199931.2789257, \"EndTime\": 1640199931.392563, \"Dimensions\": {\"Algorithm\": \"factorization-machines\", \"Host\": \"algo-1\", \"Operation\": \"training\", \"Meta\": \"test_data_iter\"}, \"Metrics\": {\"Total Records Seen\": {\"sum\": 9428.0, \"count\": 1, \"min\": 9428, \"max\": 9428}, \"Total Batches Seen\": {\"sum\": 48.0, \"count\": 1, \"min\": 48, \"max\": 48}, \"Max Records Seen Between Resets\": {\"sum\": 9428.0, \"count\": 1, \"min\": 9428, \"max\": 9428}, \"Max Batches Seen Between Resets\": {\"sum\": 48.0, \"count\": 1, \"min\": 48, \"max\": 48}, \"Reset Count\": {\"sum\": 1.0, \"count\": 1, \"min\": 1, \"max\": 1}, \"Number of Records Since Last Reset\": {\"sum\": 9428.0, \"count\": 1, \"min\": 9428, \"max\": 9428}, \"Number of Batches Since Last Reset\": {\"sum\": 48.0, \"count\": 1, \"min\": 48, \"max\": 48}}}\u001b[0m\n",
      "\u001b[34m[12/22/2021 19:05:31 INFO 139703438038848] #test_score (algo-1) : ('binary_classification_accuracy', 0.6934662706830717)\u001b[0m\n",
      "\u001b[34m[12/22/2021 19:05:31 INFO 139703438038848] #test_score (algo-1) : ('binary_classification_cross_entropy', 0.6039596941190905)\u001b[0m\n",
      "\u001b[34m[12/22/2021 19:05:31 INFO 139703438038848] #test_score (algo-1) : ('binary_f_1.000', 0.7624136797106215)\u001b[0m\n",
      "\u001b[34m[12/22/2021 19:05:31 INFO 139703438038848] #quality_metric: host=algo-1, test binary_classification_accuracy <score>=0.6934662706830717\u001b[0m\n",
      "\u001b[34m[12/22/2021 19:05:31 INFO 139703438038848] #quality_metric: host=algo-1, test binary_classification_cross_entropy <loss>=0.6039596941190905\u001b[0m\n",
      "\u001b[34m[12/22/2021 19:05:31 INFO 139703438038848] #quality_metric: host=algo-1, test binary_f_1.000 <score>=0.7624136797106215\u001b[0m\n",
      "\u001b[34m#metrics {\"StartTime\": 1640199931.2703269, \"EndTime\": 1640199931.3933032, \"Dimensions\": {\"Algorithm\": \"factorization-machines\", \"Host\": \"algo-1\", \"Operation\": \"training\"}, \"Metrics\": {\"setuptime\": {\"sum\": 22.398710250854492, \"count\": 1, \"min\": 22.398710250854492, \"max\": 22.398710250854492}, \"totaltime\": {\"sum\": 40775.3963470459, \"count\": 1, \"min\": 40775.3963470459, \"max\": 40775.3963470459}}}\u001b[0m\n",
      "\n",
      "2021-12-22 19:05:45 Uploading - Uploading generated training model\n",
      "2021-12-22 19:05:45 Completed - Training job completed\n",
      "Training seconds: 100\n",
      "Billable seconds: 100\n",
      "CPU times: user 635 ms, sys: 71.9 ms, total: 707 ms\n",
      "Wall time: 5min 14s\n"
     ]
    }
   ],
   "source": [
    "%%time \n",
    "\n",
    "fm.fit(inputs=data_channels, logs=True)"
   ]
  },
  {
   "cell_type": "code",
   "execution_count": 32,
   "metadata": {},
   "outputs": [
    {
     "data": {
      "text/markdown": [
       "# **Train Job**\n",
       "| | |\n",
       "|---|---|\n",
       "| **Name** | factorization-machines-2021-12-22-19-00-47-575 |\n",
       "| **ARN**  | arn:aws:sagemaker:us-east-1:338408246139:training-job/factorization-machines-2021-12-22-19-00-47-575 |\n",
       "| **Creation Time** | 2021-12-22 19:00:47.805000+00:00 |\n",
       "| **Output** | s3://sagemaker-us-east-1-338408246139/builtin-notebooks/Recomendation-Machine/Explicit/output/factorization-machines-2021-12-22-19-00-47-575/output/model.tar.gz |\n",
       "| **Training Start Time** | 2021-12-22 19:04:05.210000+00:00 |\n",
       "| **Training End Time** | 2021-12-22 19:05:45.133000+00:00 |\n",
       "| **Training Time** | 100 seconds |\n",
       "| **Training Set Input** | s3://sagemaker-us-east-1-338408246139/builtin-notebooks/Recomendation-Machine/Explicit/train/ |\n",
       "\n",
       "## Hyperparameters\n",
       "| | |\n",
       "|---|---|\n",
       "| **epochs** | 30 |\n",
       "| **feature_dim** | 2623 |\n",
       "| **mini_batch_size** | 200 |\n",
       "| **num_factors** | 64 |\n",
       "| **predictor_type** | binary_classifier |\n",
       "\n",
       "## Metrics\n",
       "| | |\n",
       "|---|---|\n",
       "| **train:progress** | 100.0 |\n",
       "| **test:binary_f_beta** | 0.7624136805534363 |\n",
       "| **train:binary_classification_accuracy:batch** | 0.7599999904632568 |\n",
       "| **train:binary_f_beta:batch** | 0.8260869383811951 |\n",
       "| **train:binary_classification_cross_entropy:epoch** | 0.5827834010124207 |\n",
       "| **train:binary_f_beta** | 0.7644419074058533 |\n",
       "| **train:binary_classification_cross_entropy** | 0.5827834010124207 |\n",
       "| **train:binary_f_beta:epoch** | 0.7644419074058533 |\n",
       "| **train:binary_classification_accuracy:epoch** | 0.7201876640319824 |\n",
       "| **train:binary_classification_accuracy** | 0.7201876640319824 |\n",
       "| **test:binary_classification_cross_entropy** | 0.6039596796035767 |\n",
       "| **train:throughput** | 69653.3203125 |\n",
       "| **test:binary_classification_accuracy** | 0.6934662461280823 |\n",
       "| **train:binary_classification_cross_entropy:batch** | 0.5558118224143982 |\n"
      ]
     },
     "metadata": {},
     "output_type": "display_data"
    }
   ],
   "source": [
    "from IPython.display import display, display_markdown\n",
    "\n",
    "job_desc = fm.latest_training_job.describe()\n",
    "\n",
    "job_name = job_desc[\"TrainingJobName\"]\n",
    "job_arn = job_desc[\"TrainingJobArn\"]\n",
    "creation_time = job_desc[\"CreationTime\"]\n",
    "train_start_time = job_desc[\"TrainingStartTime\"]\n",
    "train_end_time = job_desc[\"TrainingEndTime\"]\n",
    "job_output = job_desc[\"ModelArtifacts\"][\"S3ModelArtifacts\"]\n",
    "train_time = job_desc[\"TrainingTimeInSeconds\"]\n",
    "\n",
    "desc_md = f\"\"\"# **Train Job**\n",
    "| | |\n",
    "|---|---|\n",
    "| **Name** | {job_name} |\n",
    "| **ARN**  | {job_arn} |\n",
    "| **Creation Time** | {creation_time} |\n",
    "| **Output** | {job_output} |\n",
    "| **Training Start Time** | {train_start_time} |\n",
    "| **Training End Time** | {train_end_time} |\n",
    "| **Training Time** | {train_time} seconds |\n",
    "| **Training Set Input** | {s3_train} |\n",
    "\n",
    "## Hyperparameters\n",
    "| | |\n",
    "|---|---|\n",
    "\"\"\"\n",
    "for name, val in job_desc[\"HyperParameters\"].items():\n",
    "    desc_md += f\"| **{name}** | {val} |\\n\"\n",
    "\n",
    "desc_md += \"\"\"\n",
    "## Metrics\n",
    "| | |\n",
    "|---|---|\n",
    "\"\"\"\n",
    "for metric in job_desc[\"FinalMetricDataList\"]:\n",
    "    name, val = metric[\"MetricName\"], metric[\"Value\"]\n",
    "    desc_md += f\"| **{name}** | {val} |\\n\"\n",
    "\n",
    "display_markdown(desc_md, raw=True)"
   ]
  },
  {
   "cell_type": "markdown",
   "metadata": {},
   "source": [
    "<a id='Batch-Inference'></a>\n",
    "\n",
    "# Perform Batch Inference\n",
    "\n",
    "***\n",
    "\n",
    "We will use the trained model to perform a batch inference over a fixed set of observations. This can be useful when the trained model is being used as a Transformation step on a ETL pipeline, or when we need the results of the model to be precomputed (insted of getting live prediction requests on an endpoint)."
   ]
  },
  {
   "cell_type": "code",
   "execution_count": 33,
   "metadata": {},
   "outputs": [],
   "source": [
    "def writeDatasetToProtobuf2(X, bucket, prefix, key, d_type, Y=None):\n",
    "    buf = io.BytesIO()\n",
    "    if d_type==\"sparse\":\n",
    "        smac.write_spmatrix_to_sparse_tensor(buf, X, labels=Y)\n",
    "    else:\n",
    "        smac.write_numpy_to_dense_tensor(buf, X, labels=Y)\n",
    "        \n",
    "    buf.seek(0)\n",
    "    obj = '{}/{}'.format(prefix, key)\n",
    "    boto3.resource('s3').Bucket(bucket).Object(obj).upload_fileobj(buf)\n",
    "    return 's3://{}/{}'.format(bucket,obj)"
   ]
  },
  {
   "cell_type": "code",
   "execution_count": 34,
   "metadata": {},
   "outputs": [
    {
     "name": "stdout",
     "output_type": "stream",
     "text": [
      "Batch inference data path:  s3://sagemaker-us-east-1-338408246139/builtin-notebooks/Recomendation-Machine/Explicit/batch_inference/test.protobuf\n"
     ]
    }
   ],
   "source": [
    "#upload inference data to S3\n",
    "s3_batch_output = \"s3://{}/{}/batch_output/\".format(bucket, prefix)\n",
    "prefix_batch = \"{}/batch_inference\".format(prefix)\n",
    "\n",
    "s3_batch_input = writeDatasetToProtobuf2(X_test_OH, bucket, prefix_batch, test_key, \"sparse\")\n",
    "print (\"Batch inference data path: \",s3_batch_input)"
   ]
  },
  {
   "cell_type": "code",
   "execution_count": 35,
   "metadata": {},
   "outputs": [],
   "source": [
    "fm_transformer = fm.transformer(\n",
    "    instance_count=1,\n",
    "    output_path=s3_batch_output,\n",
    "    instance_type=\"ml.c4.xlarge\",\n",
    "    max_payload=1,\n",
    ")"
   ]
  },
  {
   "cell_type": "code",
   "execution_count": 36,
   "metadata": {},
   "outputs": [],
   "source": [
    "import uuid"
   ]
  },
  {
   "cell_type": "code",
   "execution_count": 37,
   "metadata": {},
   "outputs": [
    {
     "data": {
      "text/plain": [
       "'Launching Batch Transform Job factorization-machines-2021-12-22-19-00-47-575-0d303ad3'"
      ]
     },
     "metadata": {},
     "output_type": "display_data"
    },
    {
     "name": "stdout",
     "output_type": "stream",
     "text": [
      ".........................................................................!\n",
      "CPU times: user 299 ms, sys: 31.2 ms, total: 330 ms\n",
      "Wall time: 6min 7s\n"
     ]
    }
   ],
   "source": [
    "%%time \n",
    "\n",
    "transform_job_name = f\"{job_name}-{str(uuid.uuid4())[:8]}\"\n",
    "display(f\"Launching Batch Transform Job {transform_job_name}\")\n",
    "\n",
    "s3_batch_inference = \"s3://{}/{}/batch_inference/\".format(bucket, prefix)\n",
    "\n",
    "fm_transformer.transform(\n",
    "    data=s3_batch_inference,\n",
    "    split_type='RecordIO',\n",
    "    content_type=\"application/x-recordio-protobuf\",\n",
    "    job_name=transform_job_name,\n",
    "    wait=True,\n",
    "    logs=False\n",
    ")"
   ]
  },
  {
   "cell_type": "code",
   "execution_count": 38,
   "metadata": {},
   "outputs": [],
   "source": [
    "#Download predictions \n",
    "results_file_name = \"inference_batch_output\"\n",
    "results_prefix_name = '{}/batch_output/test.protobuf.out'.format(prefix)\n",
    "s3_client = boto3.client('s3')\n",
    "s3_client.download_file(bucket, results_prefix_name, results_file_name)\n",
    "with open(results_file_name) as f:\n",
    "    results = f.readlines() "
   ]
  },
  {
   "cell_type": "code",
   "execution_count": 39,
   "metadata": {},
   "outputs": [
    {
     "data": {
      "text/html": [
       "<div>\n",
       "<style scoped>\n",
       "    .dataframe tbody tr th:only-of-type {\n",
       "        vertical-align: middle;\n",
       "    }\n",
       "\n",
       "    .dataframe tbody tr th {\n",
       "        vertical-align: top;\n",
       "    }\n",
       "\n",
       "    .dataframe thead th {\n",
       "        text-align: right;\n",
       "    }\n",
       "</style>\n",
       "<table border=\"1\" class=\"dataframe\">\n",
       "  <thead>\n",
       "    <tr style=\"text-align: right;\">\n",
       "      <th></th>\n",
       "      <th>predicted_label</th>\n",
       "      <th>score</th>\n",
       "      <th>rating</th>\n",
       "      <th>rating_bin</th>\n",
       "    </tr>\n",
       "  </thead>\n",
       "  <tbody>\n",
       "    <tr>\n",
       "      <th>0</th>\n",
       "      <td>1.0</td>\n",
       "      <td>0.589505</td>\n",
       "      <td>4</td>\n",
       "      <td>1.0</td>\n",
       "    </tr>\n",
       "    <tr>\n",
       "      <th>1</th>\n",
       "      <td>1.0</td>\n",
       "      <td>0.577482</td>\n",
       "      <td>4</td>\n",
       "      <td>1.0</td>\n",
       "    </tr>\n",
       "    <tr>\n",
       "      <th>2</th>\n",
       "      <td>1.0</td>\n",
       "      <td>0.643375</td>\n",
       "      <td>4</td>\n",
       "      <td>1.0</td>\n",
       "    </tr>\n",
       "    <tr>\n",
       "      <th>3</th>\n",
       "      <td>1.0</td>\n",
       "      <td>0.648402</td>\n",
       "      <td>3</td>\n",
       "      <td>0.0</td>\n",
       "    </tr>\n",
       "    <tr>\n",
       "      <th>4</th>\n",
       "      <td>0.0</td>\n",
       "      <td>0.451894</td>\n",
       "      <td>2</td>\n",
       "      <td>0.0</td>\n",
       "    </tr>\n",
       "    <tr>\n",
       "      <th>...</th>\n",
       "      <td>...</td>\n",
       "      <td>...</td>\n",
       "      <td>...</td>\n",
       "      <td>...</td>\n",
       "    </tr>\n",
       "    <tr>\n",
       "      <th>9423</th>\n",
       "      <td>0.0</td>\n",
       "      <td>0.466676</td>\n",
       "      <td>4</td>\n",
       "      <td>1.0</td>\n",
       "    </tr>\n",
       "    <tr>\n",
       "      <th>9424</th>\n",
       "      <td>1.0</td>\n",
       "      <td>0.546960</td>\n",
       "      <td>4</td>\n",
       "      <td>1.0</td>\n",
       "    </tr>\n",
       "    <tr>\n",
       "      <th>9425</th>\n",
       "      <td>1.0</td>\n",
       "      <td>0.507472</td>\n",
       "      <td>1</td>\n",
       "      <td>0.0</td>\n",
       "    </tr>\n",
       "    <tr>\n",
       "      <th>9426</th>\n",
       "      <td>0.0</td>\n",
       "      <td>0.435448</td>\n",
       "      <td>4</td>\n",
       "      <td>1.0</td>\n",
       "    </tr>\n",
       "    <tr>\n",
       "      <th>9427</th>\n",
       "      <td>1.0</td>\n",
       "      <td>0.580828</td>\n",
       "      <td>2</td>\n",
       "      <td>0.0</td>\n",
       "    </tr>\n",
       "  </tbody>\n",
       "</table>\n",
       "<p>9428 rows × 4 columns</p>\n",
       "</div>"
      ],
      "text/plain": [
       "      predicted_label     score  rating  rating_bin\n",
       "0                 1.0  0.589505       4         1.0\n",
       "1                 1.0  0.577482       4         1.0\n",
       "2                 1.0  0.643375       4         1.0\n",
       "3                 1.0  0.648402       3         0.0\n",
       "4                 0.0  0.451894       2         0.0\n",
       "...               ...       ...     ...         ...\n",
       "9423              0.0  0.466676       4         1.0\n",
       "9424              1.0  0.546960       4         1.0\n",
       "9425              1.0  0.507472       1         0.0\n",
       "9426              0.0  0.435448       4         1.0\n",
       "9427              1.0  0.580828       2         0.0\n",
       "\n",
       "[9428 rows x 4 columns]"
      ]
     },
     "execution_count": 39,
     "metadata": {},
     "output_type": "execute_result"
    }
   ],
   "source": [
    "pd.concat([pd.Series(results,name='predicted_label').apply(json.loads).apply(lambda x: x['predicted_label']),pd.Series(results,name='score').apply(json.loads).apply(lambda x: x['score']),ratings_test.rating,Y_test_OH],axis=1)"
   ]
  },
  {
   "cell_type": "code",
   "execution_count": 40,
   "metadata": {},
   "outputs": [
    {
     "name": "stdout",
     "output_type": "stream",
     "text": [
      "The accuracy in dataset test is: 0.69\n"
     ]
    }
   ],
   "source": [
    "# Evaluamos el accuracy del modelo\n",
    "from sklearn.metrics import accuracy_score\n",
    "\n",
    "print('The accuracy in dataset test is: {}'.format(accuracy_score(Y_test_OH, pd.Series(results,name='predicted_label').apply(json.loads).apply(lambda x: x['predicted_label'])).round(2)))"
   ]
  },
  {
   "cell_type": "code",
   "execution_count": 41,
   "metadata": {},
   "outputs": [
    {
     "data": {
      "image/png": "[encoded data removed]",
      "text/plain": [
       "<Figure size 720x504 with 2 Axes>"
      ]
     },
     "metadata": {},
     "output_type": "display_data"
    }
   ],
   "source": [
    "from sklearn.metrics import confusion_matrix\n",
    "\n",
    "cm = confusion_matrix(Y_test_OH, pd.Series(results, name='predicted_label').apply(json.loads).apply(lambda x: x['predicted_label']))\n",
    "\n",
    "ax = plt.subplot()\n",
    "sns.heatmap(cm, annot=True, ax = ax, fmt='g')\n",
    "\n",
    "# labels, title and ticks\n",
    "ax.set_xlabel('Predicted labels')\n",
    "ax.set_ylabel('True labels')\n",
    "ax.set_title('Confusion Matrix')\n",
    "ax.xaxis.set_ticklabels(['low rating', 'high rating'])\n",
    "ax.yaxis.set_ticklabels(['low rating', 'high rating'])"
   ]
  },
  {
   "cell_type": "markdown",
   "metadata": {},
   "source": [
    "<a id='Real-Time-Inference'></a>\n",
    "\n",
    "# Perform Real-Time Inference\n",
    "\n",
    "***\n",
    "\n",
    "We now want to use the model to perform online inference. You can deploy the created model by using the `deploy` method in the `estimator`."
   ]
  },
  {
   "cell_type": "code",
   "execution_count": 42,
   "metadata": {},
   "outputs": [
    {
     "name": "stdout",
     "output_type": "stream",
     "text": [
      "--------!CPU times: user 139 ms, sys: 13.9 ms, total: 153 ms\n",
      "Wall time: 4min 1s\n"
     ]
    }
   ],
   "source": [
    "%%time\n",
    "fm_predictor = fm.deploy(\n",
    "    initial_instance_count=1,\n",
    "    instance_type=\"ml.c4.xlarge\",\n",
    "    deserializer= JSONDeserializer()\n",
    ")"
   ]
  },
  {
   "cell_type": "markdown",
   "metadata": {},
   "source": [
    "<a id='Inferences'></a>\n",
    "## Inferences\n",
    "\n",
    "Factorization Machine is so often used with sparse data, performing inference requests with a CSV format (as is done in other algorithm examples) can be hugely inefficient. Instead of wasting space and time generating all those zeros, to fill the row with the correct dimensionality, JSON can be used more efficiently. "
   ]
  },
  {
   "cell_type": "code",
   "execution_count": 43,
   "metadata": {},
   "outputs": [
    {
     "data": {
      "text/plain": [
       "'Endpoints name: factorization-machines-2021-12-22-19-12-12-457'"
      ]
     },
     "metadata": {},
     "output_type": "display_data"
    }
   ],
   "source": [
    "endpoint_name = fm_predictor.endpoint_name\n",
    "display(f\"Endpoints name: {endpoint_name}\")"
   ]
  },
  {
   "cell_type": "code",
   "execution_count": 44,
   "metadata": {},
   "outputs": [],
   "source": [
    "fm_predictor = sagemaker.predictor.Predictor(endpoint_name, \n",
    "                                             sagemaker_session=sagemaker.Session(), \n",
    "                                             #serializer=FMSerializer(),\n",
    "                                             deserializer=JSONDeserializer()\n",
    "                                            )"
   ]
  },
  {
   "cell_type": "code",
   "execution_count": 45,
   "metadata": {},
   "outputs": [],
   "source": [
    "def serialize(data):\n",
    "    js = {'instances': []}\n",
    "    for row in data:\n",
    "        js['instances'].append({'features': row.tolist()})\n",
    "    return json.dumps(js)"
   ]
  },
  {
   "cell_type": "code",
   "execution_count": 46,
   "metadata": {},
   "outputs": [
    {
     "name": "stdout",
     "output_type": "stream",
     "text": [
      "{'predictions': [{'predicted_label': 1.0, 'score': 0.5895045399665833},\n",
      "                 {'predicted_label': 1.0, 'score': 0.5774816870689392},\n",
      "                 {'predicted_label': 1.0, 'score': 0.6433746814727783},\n",
      "                 {'predicted_label': 1.0, 'score': 0.6484015583992004},\n",
      "                 {'predicted_label': 0.0, 'score': 0.4518936276435852},\n",
      "                 {'predicted_label': 1.0, 'score': 0.5825338363647461},\n",
      "                 {'predicted_label': 1.0, 'score': 0.6893323659896851},\n",
      "                 {'predicted_label': 1.0, 'score': 0.7296139001846313},\n",
      "                 {'predicted_label': 1.0, 'score': 0.6663004159927368},\n",
      "                 {'predicted_label': 1.0, 'score': 0.6761026382446289},\n",
      "                 {'predicted_label': 1.0, 'score': 0.5885559320449829},\n",
      "                 {'predicted_label': 1.0, 'score': 0.8105983734130859},\n",
      "                 {'predicted_label': 1.0, 'score': 0.7238032221794128},\n",
      "                 {'predicted_label': 1.0, 'score': 0.5005598068237305},\n",
      "                 {'predicted_label': 0.0, 'score': 0.4851500988006592},\n",
      "                 {'predicted_label': 1.0, 'score': 0.5004498958587646},\n",
      "                 {'predicted_label': 1.0, 'score': 0.6151190996170044},\n",
      "                 {'predicted_label': 1.0, 'score': 0.6611725091934204},\n",
      "                 {'predicted_label': 1.0, 'score': 0.5037074089050293},\n",
      "                 {'predicted_label': 0.0, 'score': 0.49629291892051697}]}\n"
     ]
    }
   ],
   "source": [
    "cant_inferencias = 20\n",
    "X_test_json = serialize(X_test_OH[:cant_inferencias,:].toarray())\n",
    "result = fm_predictor.predict(X_test_json, initial_args={\"ContentType\": \"application/json\"})\n",
    "\n",
    "#print(X_test_json)\n",
    "pprint.pprint(result)"
   ]
  },
  {
   "cell_type": "markdown",
   "metadata": {},
   "source": [
    "This type of JSON format to pass the inferences has certain limitations, since the complete rows of o's and 1's are passed to it, it usually fails when a number of rows is exceeded (depending on the dimension of the dataset). One of the options is to make the inferences by parts and join the results. Another way that was found to solve this problem is to make the inferences, taking advantage of the fact that each row only contains information in the positions where they present 1 and not the zeros. The following JSON format is also accepted and much more optimal when it comes to inferring."
   ]
  },
  {
   "cell_type": "code",
   "execution_count": 47,
   "metadata": {},
   "outputs": [],
   "source": [
    "def serialize(data, target):\n",
    "    js = {'instances': []}\n",
    "    shape = data.shape[1]\n",
    "    x_test = pd.DataFrame()\n",
    "    for row in data:\n",
    "        userId_index = row.tocoo().col[0]\n",
    "        movieId_index = row.tocoo().col[1]\n",
    "        x_test = x_test.append(pd.DataFrame({'userId':[enc.categories_[0][userId_index]], 'movieId':[enc.categories_[1][movieId_index-len(enc.categories_[0])]]}))\n",
    "        js['instances'].append({\"data\":{\"features\":{\"keys\": [int(userId_index), int(movieId_index)], \"shape\": [shape], \"values\": [1,1]}}})\n",
    "    salida = pd.concat([x_test.reset_index(drop=True), pd.DataFrame({'rating':target.astype(int)}).reset_index(drop=True)], axis=1)\n",
    "    return salida,json.dumps(js)"
   ]
  },
  {
   "cell_type": "code",
   "execution_count": 48,
   "metadata": {},
   "outputs": [],
   "source": [
    "#cant_inferencias = X_test_OH.shape[0]\n",
    "cant_inferencias = 100\n",
    "X_test,X_test_json = serialize(X_test_OH[:cant_inferencias,:], Y_test_OH[:cant_inferencias])\n",
    "result = fm_predictor.predict(X_test_json, initial_args={\"ContentType\": \"application/json\"})\n"
   ]
  },
  {
   "cell_type": "code",
   "execution_count": 49,
   "metadata": {},
   "outputs": [
    {
     "data": {
      "text/html": [
       "<div>\n",
       "<style scoped>\n",
       "    .dataframe tbody tr th:only-of-type {\n",
       "        vertical-align: middle;\n",
       "    }\n",
       "\n",
       "    .dataframe tbody tr th {\n",
       "        vertical-align: top;\n",
       "    }\n",
       "\n",
       "    .dataframe thead th {\n",
       "        text-align: right;\n",
       "    }\n",
       "</style>\n",
       "<table border=\"1\" class=\"dataframe\">\n",
       "  <thead>\n",
       "    <tr style=\"text-align: right;\">\n",
       "      <th></th>\n",
       "      <th>score</th>\n",
       "      <th>predicted_label</th>\n",
       "    </tr>\n",
       "  </thead>\n",
       "  <tbody>\n",
       "    <tr>\n",
       "      <th>0</th>\n",
       "      <td>0.589505</td>\n",
       "      <td>1.0</td>\n",
       "    </tr>\n",
       "    <tr>\n",
       "      <th>1</th>\n",
       "      <td>0.577482</td>\n",
       "      <td>1.0</td>\n",
       "    </tr>\n",
       "    <tr>\n",
       "      <th>2</th>\n",
       "      <td>0.643375</td>\n",
       "      <td>1.0</td>\n",
       "    </tr>\n",
       "    <tr>\n",
       "      <th>3</th>\n",
       "      <td>0.648402</td>\n",
       "      <td>1.0</td>\n",
       "    </tr>\n",
       "    <tr>\n",
       "      <th>4</th>\n",
       "      <td>0.451894</td>\n",
       "      <td>0.0</td>\n",
       "    </tr>\n",
       "    <tr>\n",
       "      <th>...</th>\n",
       "      <td>...</td>\n",
       "      <td>...</td>\n",
       "    </tr>\n",
       "    <tr>\n",
       "      <th>95</th>\n",
       "      <td>0.632684</td>\n",
       "      <td>1.0</td>\n",
       "    </tr>\n",
       "    <tr>\n",
       "      <th>96</th>\n",
       "      <td>0.657884</td>\n",
       "      <td>1.0</td>\n",
       "    </tr>\n",
       "    <tr>\n",
       "      <th>97</th>\n",
       "      <td>0.739731</td>\n",
       "      <td>1.0</td>\n",
       "    </tr>\n",
       "    <tr>\n",
       "      <th>98</th>\n",
       "      <td>0.675430</td>\n",
       "      <td>1.0</td>\n",
       "    </tr>\n",
       "    <tr>\n",
       "      <th>99</th>\n",
       "      <td>0.701271</td>\n",
       "      <td>1.0</td>\n",
       "    </tr>\n",
       "  </tbody>\n",
       "</table>\n",
       "<p>100 rows × 2 columns</p>\n",
       "</div>"
      ],
      "text/plain": [
       "       score  predicted_label\n",
       "0   0.589505              1.0\n",
       "1   0.577482              1.0\n",
       "2   0.643375              1.0\n",
       "3   0.648402              1.0\n",
       "4   0.451894              0.0\n",
       "..       ...              ...\n",
       "95  0.632684              1.0\n",
       "96  0.657884              1.0\n",
       "97  0.739731              1.0\n",
       "98  0.675430              1.0\n",
       "99  0.701271              1.0\n",
       "\n",
       "[100 rows x 2 columns]"
      ]
     },
     "execution_count": 49,
     "metadata": {},
     "output_type": "execute_result"
    }
   ],
   "source": [
    "pd.DataFrame.from_dict(result['predictions'])"
   ]
  },
  {
   "cell_type": "code",
   "execution_count": 50,
   "metadata": {},
   "outputs": [
    {
     "name": "stdout",
     "output_type": "stream",
     "text": [
      "3000\n",
      "3\n"
     ]
    }
   ],
   "source": [
    "n_predict = 3000\n",
    "n_iter = X_test_OH.shape[0]//n_predict \n",
    "\n",
    "print(n_predict)\n",
    "print(n_iter)"
   ]
  },
  {
   "cell_type": "code",
   "execution_count": 51,
   "metadata": {},
   "outputs": [
    {
     "data": {
      "text/markdown": [
       "# **Inferences**"
      ]
     },
     "metadata": {},
     "output_type": "display_data"
    },
    {
     "name": "stdout",
     "output_type": "stream",
     "text": [
      "      userId  movieId  rating     score  predicted_label\n",
      "0          1       20       1  0.589505              1.0\n",
      "1          1       33       1  0.577482              1.0\n",
      "2          1       61       1  0.643375              1.0\n",
      "3          1      117       0  0.648402              1.0\n",
      "4          1      155       0  0.451894              0.0\n",
      "...      ...      ...     ...       ...              ...\n",
      "9423     943      232       1  0.466676              0.0\n",
      "9424     943      356       1  0.546960              1.0\n",
      "9425     943      570       0  0.507472              1.0\n",
      "9426     943      808       1  0.435448              0.0\n",
      "9427     943     1067       0  0.580828              1.0\n",
      "\n",
      "[9428 rows x 5 columns]\n",
      "CPU times: user 10.2 s, sys: 24.9 ms, total: 10.2 s\n",
      "Wall time: 10.7 s\n"
     ]
    }
   ],
   "source": [
    "%%time\n",
    "salida_test = pd.DataFrame()\n",
    "\n",
    "for i in range(n_iter+1):\n",
    "    if i==n_iter:\n",
    "        \n",
    "        X_test,X_test_json = serialize(X_test_OH[i*n_predict:,:], Y_test_OH[i*n_predict:])\n",
    "        result_i = fm_predictor.predict(X_test_json, initial_args={\"ContentType\": \"application/json\"})\n",
    "        salida_i = pd.DataFrame.from_dict(result_i['predictions'])\n",
    "        salida_i = pd.concat([X_test,salida_i],axis=1)\n",
    "        salida_test = salida_test.append(salida_i)\n",
    "    else:\n",
    "        \n",
    "        X_test,X_test_json = serialize(X_test_OH[i*n_predict:(i+1)*n_predict,:], Y_test_OH[i*n_predict:(i+1)*n_predict])\n",
    "        result_i = fm_predictor.predict(X_test_json, initial_args={\"ContentType\": \"application/json\"})\n",
    "        salida_i = pd.DataFrame.from_dict(result_i['predictions'])\n",
    "        salida_i = pd.concat([X_test,salida_i],axis=1)\n",
    "        salida_test = salida_test.append(salida_i)\n",
    "\n",
    "\n",
    "salida_test.reset_index(drop=True, inplace=True)\n",
    "desc_md = f\"\"\"# **Inferences**\"\"\"\n",
    "display_markdown(desc_md, raw=True)\n",
    "print(salida_test)"
   ]
  },
  {
   "cell_type": "code",
   "execution_count": 52,
   "metadata": {},
   "outputs": [],
   "source": [
    "salida_test.to_csv(\"prediccion_test.csv\")"
   ]
  },
  {
   "cell_type": "markdown",
   "metadata": {},
   "source": [
    "<a id='Recommend'></a>\n",
    "## Recommend\n",
    "\n",
    "Finally, we are going to generate a Recommend function that will allow us to make the top X recommendations of the movies that I have not rated yet for each userID."
   ]
  },
  {
   "cell_type": "code",
   "execution_count": 53,
   "metadata": {},
   "outputs": [],
   "source": [
    "def recommend(userId, data, enc, k=10):\n",
    "    \n",
    "    js = {'instances': []}\n",
    "    shape = len(enc.categories_[0])+len(enc.categories_[1])\n",
    "    recommend = pd.DataFrame()\n",
    "    \n",
    "    movie = data.movieId[data.userId==userId]\n",
    "    movie_not = set(data.movieId.unique())-set(movie)\n",
    "    userId_index = np.where(enc.categories_[0]==userId)[0][0]\n",
    "    for m in movie_not:\n",
    "        movie_index = np.where(enc.categories_[1]==m)[0][0]\n",
    "        js['instances'].append({\"data\":{\"features\":{\"keys\":[int(userId_index),int(movie_index)], \"shape\": [shape], \"values\": [1,1]}}})\n",
    "        \n",
    "    result = fm_predictor.predict(json.dumps(js), initial_args={\"ContentType\": \"application/json\"})\n",
    "    \n",
    "    recommend = pd.DataFrame.from_dict(result['predictions'])\n",
    "    recommend['userId'] = userId\n",
    "    recommend['movieId'] = movie_not\n",
    "    return recommend[['userId','movieId','score']].loc[recommend.predicted_label==1].sort_values(by='score',ascending=False).reset_index(drop=True).loc[:(k-1),:]\n",
    "        "
   ]
  },
  {
   "cell_type": "code",
   "execution_count": 54,
   "metadata": {},
   "outputs": [
    {
     "data": {
      "text/html": [
       "<div>\n",
       "<style scoped>\n",
       "    .dataframe tbody tr th:only-of-type {\n",
       "        vertical-align: middle;\n",
       "    }\n",
       "\n",
       "    .dataframe tbody tr th {\n",
       "        vertical-align: top;\n",
       "    }\n",
       "\n",
       "    .dataframe thead th {\n",
       "        text-align: right;\n",
       "    }\n",
       "</style>\n",
       "<table border=\"1\" class=\"dataframe\">\n",
       "  <thead>\n",
       "    <tr style=\"text-align: right;\">\n",
       "      <th></th>\n",
       "      <th>userId</th>\n",
       "      <th>movieId</th>\n",
       "      <th>score</th>\n",
       "    </tr>\n",
       "  </thead>\n",
       "  <tbody>\n",
       "    <tr>\n",
       "      <th>0</th>\n",
       "      <td>1</td>\n",
       "      <td>993</td>\n",
       "      <td>0.836662</td>\n",
       "    </tr>\n",
       "    <tr>\n",
       "      <th>1</th>\n",
       "      <td>1</td>\n",
       "      <td>1007</td>\n",
       "      <td>0.831354</td>\n",
       "    </tr>\n",
       "    <tr>\n",
       "      <th>2</th>\n",
       "      <td>1</td>\n",
       "      <td>1041</td>\n",
       "      <td>0.827010</td>\n",
       "    </tr>\n",
       "    <tr>\n",
       "      <th>3</th>\n",
       "      <td>1</td>\n",
       "      <td>1426</td>\n",
       "      <td>0.825527</td>\n",
       "    </tr>\n",
       "    <tr>\n",
       "      <th>4</th>\n",
       "      <td>1</td>\n",
       "      <td>1070</td>\n",
       "      <td>0.819956</td>\n",
       "    </tr>\n",
       "    <tr>\n",
       "      <th>5</th>\n",
       "      <td>1</td>\n",
       "      <td>1261</td>\n",
       "      <td>0.819297</td>\n",
       "    </tr>\n",
       "    <tr>\n",
       "      <th>6</th>\n",
       "      <td>1</td>\n",
       "      <td>1422</td>\n",
       "      <td>0.818360</td>\n",
       "    </tr>\n",
       "    <tr>\n",
       "      <th>7</th>\n",
       "      <td>1</td>\n",
       "      <td>955</td>\n",
       "      <td>0.815554</td>\n",
       "    </tr>\n",
       "    <tr>\n",
       "      <th>8</th>\n",
       "      <td>1</td>\n",
       "      <td>1370</td>\n",
       "      <td>0.813222</td>\n",
       "    </tr>\n",
       "    <tr>\n",
       "      <th>9</th>\n",
       "      <td>1</td>\n",
       "      <td>1117</td>\n",
       "      <td>0.809409</td>\n",
       "    </tr>\n",
       "  </tbody>\n",
       "</table>\n",
       "</div>"
      ],
      "text/plain": [
       "   userId  movieId     score\n",
       "0       1      993  0.836662\n",
       "1       1     1007  0.831354\n",
       "2       1     1041  0.827010\n",
       "3       1     1426  0.825527\n",
       "4       1     1070  0.819956\n",
       "5       1     1261  0.819297\n",
       "6       1     1422  0.818360\n",
       "7       1      955  0.815554\n",
       "8       1     1370  0.813222\n",
       "9       1     1117  0.809409"
      ]
     },
     "execution_count": 54,
     "metadata": {},
     "output_type": "execute_result"
    }
   ],
   "source": [
    "recommend = recommend(1, ratings, enc)\n",
    "recommend"
   ]
  },
  {
   "cell_type": "markdown",
   "metadata": {},
   "source": [
    "<a id='Clean'></a>\n",
    "### Clean up\n",
    "\n",
    "\n",
    "When we're done with the endpoint, we can just delete it and the backing instances will be released. Uncomment and run the following cell to delete the endpoint and model"
   ]
  },
  {
   "cell_type": "code",
   "execution_count": 55,
   "metadata": {},
   "outputs": [],
   "source": [
    "fm_predictor.delete_endpoint()"
   ]
  },
  {
   "cell_type": "code",
   "execution_count": null,
   "metadata": {},
   "outputs": [],
   "source": []
  }
 ],
 "metadata": {
  "kernelspec": {
   "display_name": "Python 3 (Data Science)",
   "language": "python",
   "name": "python3__SAGEMAKER_INTERNAL__arn:aws:sagemaker:us-east-1:081325390199:image/datascience-1.0"
  },
  "language_info": {
   "codemirror_mode": {
    "name": "ipython",
    "version": 3
   },
   "file_extension": ".py",
   "mimetype": "text/x-python",
   "name": "python",
   "nbconvert_exporter": "python",
   "pygments_lexer": "ipython3",
   "version": "3.7.10"
  },
  "notice": "Copyright 2018 Amazon.com, Inc. or its affiliates. All Rights Reserved.  Licensed under the Apache License, Version 2.0 (the \"License\"). You may not use this file except in compliance with the License. A copy of the License is located at http://aws.amazon.com/apache2.0/ or in the \"license\" file accompanying this file. This file is distributed on an \"AS IS\" BASIS, WITHOUT WARRANTIES OR CONDITIONS OF ANY KIND, either express or implied. See the License for the specific language governing permissions and limitations under the License."
 },
 "nbformat": 4,
 "nbformat_minor": 4
}
